{
 "cells": [
  {
   "cell_type": "markdown",
   "metadata": {
    "pycharm": {
     "name": "#%% md\n"
    }
   },
   "source": [
    "# Maxflow problem"
   ]
  },
  {
   "cell_type": "markdown",
   "metadata": {
    "pycharm": {
     "name": "#%% md\n"
    }
   },
   "source": [
    "A network is represent in the diagram below:\n",
    "\n",
    "![alt text](https://i.imgur.com/XYDSpjY.png)"
   ]
  },
  {
   "cell_type": "markdown",
   "metadata": {},
   "source": [
    "The number indicates the capacity of the flow in each direction. For example, the flow capacity from A to G is 10 units, but the flow capacity from G to A is 0.\n",
    "\n",
    "Find the maximum flow of this network where A is the source and J is the sink."
   ]
  },
  {
   "cell_type": "code",
   "execution_count": 46,
   "metadata": {},
   "outputs": [],
   "source": [
    "import networkx as nx\n",
    "import matplotlib.pyplot as plt"
   ]
  },
  {
   "cell_type": "code",
   "execution_count": 59,
   "metadata": {},
   "outputs": [],
   "source": [
    "total_node=10\n",
    "G=nx.DiGraph(directed=True)\n",
    "G.add_nodes_from(['A', 'B', 'C', 'D', 'E', 'F', 'G', 'H', 'I', 'J'])\n",
    "G.add_weighted_edges_from([('A', 'F', 10), ('A', 'E', 30), ('A', 'D', 15), ('A', 'G', 10), ('A', 'H', 40), ('A', 'I', 30),\n",
    "                           ('D', 'A', 0), ('D', 'E', 10), ('D', 'B', 10), ('E', 'D', 10), ('E', 'A', 0), ('E', 'F', 20),\n",
    "                           ('E', 'C', 15), ('F', 'A', 0), ('F', 'E', 20), ('F', 'H', 0), ('F', 'J', 20), ('J', 'F', 0),\n",
    "                           ('J', 'H', 0), ('J', 'I', 0), ('B', 'D', 10), ('B', 'C', 8), ('C', 'B', 0), ('C', 'E', 0),\n",
    "                           ('C', 'H', 30), ('G', 'A', 0), ('G', 'H', 15), ('H', 'G', 15), ('H', 'C', 30), ('H', 'F', 20),\n",
    "                           ('H', 'J', 70), ('H', 'I', 30), ('H', 'A', 0), ('I', 'H', 30), ('I', 'J', 50), ('I', 'A', 0)])"
   ]
  },
  {
   "cell_type": "code",
   "execution_count": 66,
   "metadata": {},
   "outputs": [
    {
     "ename": "SyntaxError",
     "evalue": "unmatched ')' (1561158212.py, line 2)",
     "output_type": "error",
     "traceback": [
      "\u001b[0;36m  File \u001b[0;32m\"/tmp/ipykernel_6720/1561158212.py\"\u001b[0;36m, line \u001b[0;32m2\u001b[0m\n\u001b[0;31m    pos=nx.planar_layoutG)\u001b[0m\n\u001b[0m                         ^\u001b[0m\n\u001b[0;31mSyntaxError\u001b[0m\u001b[0;31m:\u001b[0m unmatched ')'\n"
     ]
    }
   ],
   "source": [
    "plt.figure(figsize=(5, 5))\n",
    "pos=nx.planar_layout(G)\n",
    "nx.draw_networkx(G, pos)\n",
    "#nx.draw(G)"
   ]
  },
  {
   "cell_type": "code",
   "execution_count": 58,
   "metadata": {},
   "outputs": [
    {
     "name": "stdout",
     "output_type": "stream",
     "text": [
      "No parameters matching '_test' found\n",
      "['GUROBI', 'PULP_CBC_CMD']\n"
     ]
    }
   ],
   "source": [
    "# using LP\n",
    "from pulp import LpMaximize, LpMinimize, LpStatus, lpSum, LpVariable, LpProblem\n",
    "import pulp\n",
    "solver_list=pulp.listSolvers(onlyAvailable=True)\n",
    "print(solver_list)"
   ]
  },
  {
   "cell_type": "code",
   "execution_count": null,
   "metadata": {},
   "outputs": [],
   "source": []
  }
 ],
 "metadata": {
  "interpreter": {
   "hash": "ad275f547d9d45379792f91c7bd1ec71089f06a088a10d8589d12bfbbaed25ac"
  },
  "kernelspec": {
   "display_name": "Python 3 (ipykernel)",
   "language": "python",
   "name": "python3"
  },
  "language_info": {
   "codemirror_mode": {
    "name": "ipython",
    "version": 3
   },
   "file_extension": ".py",
   "mimetype": "text/x-python",
   "name": "python",
   "nbconvert_exporter": "python",
   "pygments_lexer": "ipython3",
   "version": "3.10.6"
  },
  "pycharm": {
   "stem_cell": {
    "cell_type": "raw",
    "metadata": {
     "collapsed": false
    },
    "source": []
   }
  }
 },
 "nbformat": 4,
 "nbformat_minor": 4
}
