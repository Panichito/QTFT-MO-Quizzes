{
 "cells": [
  {
   "cell_type": "markdown",
   "metadata": {
    "pycharm": {
     "name": "#%% md\n"
    }
   },
   "source": [
    "# Maxflow problem"
   ]
  },
  {
   "cell_type": "markdown",
   "metadata": {
    "pycharm": {
     "name": "#%% md\n"
    }
   },
   "source": [
    "A network is represent in the diagram below:\n",
    "\n",
    "![alt text](https://i.imgur.com/XYDSpjY.png)"
   ]
  },
  {
   "cell_type": "markdown",
   "metadata": {},
   "source": [
    "The number indicates the capacity of the flow in each direction. For example, the flow capacity from A to G is 10 units, but the flow capacity from G to A is 0.\n",
    "\n",
    "Find the maximum flow of this network where A is the source and J is the sink."
   ]
  },
  {
   "cell_type": "code",
   "execution_count": 38,
   "metadata": {},
   "outputs": [],
   "source": [
    "import networkx as nx\n",
    "import matplotlib.pyplot as plt"
   ]
  },
  {
   "cell_type": "code",
   "execution_count": 39,
   "metadata": {},
   "outputs": [],
   "source": [
    "total_node=10\n",
    "G=nx.DiGraph(directed=True)\n",
    "G.add_nodes_from(['A', 'B', 'C', 'D', 'E', 'F', 'G', 'H', 'I', 'J'])\n",
    "G.add_weighted_edges_from([('A', 'F', 10), ('A', 'E', 30), ('A', 'D', 15), ('A', 'G', 10), ('A', 'H', 40), ('A', 'I', 30),\n",
    "                           ('D', 'A', 0), ('D', 'E', 10), ('D', 'B', 10), ('E', 'D', 10), ('E', 'A', 0), ('E', 'F', 20),\n",
    "                           ('E', 'C', 15), ('F', 'A', 0), ('F', 'E', 20), ('F', 'H', 0), ('F', 'J', 20), ('J', 'F', 0),\n",
    "                           ('J', 'H', 0), ('J', 'I', 0), ('B', 'D', 10), ('B', 'C', 8), ('C', 'B', 0), ('C', 'E', 0),\n",
    "                           ('C', 'H', 30), ('G', 'A', 0), ('G', 'H', 15), ('H', 'G', 15), ('H', 'C', 30), ('H', 'F', 20),\n",
    "                           ('H', 'J', 70), ('H', 'I', 30), ('H', 'A', 0), ('I', 'H', 30), ('I', 'J', 50), ('I', 'A', 0)])"
   ]
  },
  {
   "cell_type": "code",
   "execution_count": 40,
   "metadata": {},
   "outputs": [
    {
     "data": {
      "image/png": "[encoded data removed]",
      "text/plain": [
       "<Figure size 360x360 with 1 Axes>"
      ]
     },
     "metadata": {},
     "output_type": "display_data"
    }
   ],
   "source": [
    "plt.figure(figsize=(5, 5))\n",
    "pos=nx.planar_layout(G)\n",
    "nx.draw_networkx(G, pos)\n",
    "#nx.draw(G)"
   ]
  },
  {
   "cell_type": "code",
   "execution_count": 41,
   "metadata": {},
   "outputs": [
    {
     "name": "stdout",
     "output_type": "stream",
     "text": [
      "No parameters matching '_test' found\n",
      "['GUROBI', 'PULP_CBC_CMD']\n"
     ]
    }
   ],
   "source": [
    "# using LP\n",
    "from pulp import LpMaximize, LpMinimize, LpStatus, lpSum, LpVariable, LpProblem\n",
    "import pulp\n",
    "solver_list=pulp.listSolvers(onlyAvailable=True)\n",
    "print(solver_list)"
   ]
  },
  {
   "cell_type": "code",
   "execution_count": 60,
   "metadata": {},
   "outputs": [],
   "source": [
    "model=LpProblem(name=\"maxflow_problem\", sense=LpMaximize)"
   ]
  },
  {
   "cell_type": "code",
   "execution_count": 61,
   "metadata": {},
   "outputs": [
    {
     "data": {
      "text/plain": [
       "{('A', 'F'): e(0,_('A',_'F')),\n",
       " ('A', 'E'): e(1,_('A',_'E')),\n",
       " ('A', 'D'): e(2,_('A',_'D')),\n",
       " ('A', 'G'): e(3,_('A',_'G')),\n",
       " ('A', 'H'): e(4,_('A',_'H')),\n",
       " ('A', 'I'): e(5,_('A',_'I')),\n",
       " ('B', 'D'): e(6,_('B',_'D')),\n",
       " ('B', 'C'): e(7,_('B',_'C')),\n",
       " ('C', 'B'): e(8,_('C',_'B')),\n",
       " ('C', 'E'): e(9,_('C',_'E')),\n",
       " ('C', 'H'): e(10,_('C',_'H')),\n",
       " ('D', 'A'): e(11,_('D',_'A')),\n",
       " ('D', 'E'): e(12,_('D',_'E')),\n",
       " ('D', 'B'): e(13,_('D',_'B')),\n",
       " ('E', 'D'): e(14,_('E',_'D')),\n",
       " ('E', 'A'): e(15,_('E',_'A')),\n",
       " ('E', 'F'): e(16,_('E',_'F')),\n",
       " ('E', 'C'): e(17,_('E',_'C')),\n",
       " ('F', 'A'): e(18,_('F',_'A')),\n",
       " ('F', 'E'): e(19,_('F',_'E')),\n",
       " ('F', 'H'): e(20,_('F',_'H')),\n",
       " ('F', 'J'): e(21,_('F',_'J')),\n",
       " ('G', 'A'): e(22,_('G',_'A')),\n",
       " ('G', 'H'): e(23,_('G',_'H')),\n",
       " ('H', 'G'): e(24,_('H',_'G')),\n",
       " ('H', 'C'): e(25,_('H',_'C')),\n",
       " ('H', 'F'): e(26,_('H',_'F')),\n",
       " ('H', 'J'): e(27,_('H',_'J')),\n",
       " ('H', 'I'): e(28,_('H',_'I')),\n",
       " ('H', 'A'): e(29,_('H',_'A')),\n",
       " ('I', 'H'): e(30,_('I',_'H')),\n",
       " ('I', 'J'): e(31,_('I',_'J')),\n",
       " ('I', 'A'): e(32,_('I',_'A')),\n",
       " ('J', 'F'): e(33,_('J',_'F')),\n",
       " ('J', 'H'): e(34,_('J',_'H')),\n",
       " ('J', 'I'): e(35,_('J',_'I'))}"
      ]
     },
     "execution_count": 61,
     "metadata": {},
     "output_type": "execute_result"
    }
   ],
   "source": [
    "x={(i[1][0], i[1][1]): LpVariable(name=f'e{i}', lowBound=0, cat=\"Integer\") for i in enumerate(G.edges)}\n",
    "x\n",
    "#C=LpVariable(name=\"Capacity\", lowBound=0, cat=\"Integer\")"
   ]
  },
  {
   "cell_type": "code",
   "execution_count": 62,
   "metadata": {},
   "outputs": [],
   "source": [
    "# objective function: maximize flow to destination J\n",
    "model+=lpSum(x[(e[0], e[1])] for e in G.edges if e[1] == 'J')"
   ]
  },
  {
   "cell_type": "code",
   "execution_count": 63,
   "metadata": {
    "scrolled": true
   },
   "outputs": [
    {
     "name": "stdout",
     "output_type": "stream",
     "text": [
      "1st Constraint\n",
      "   0 : A -> F : 10\n",
      "   1 : A -> E : 30\n",
      "   2 : A -> D : 15\n",
      "   3 : A -> G : 10\n",
      "   4 : A -> H : 40\n",
      "   5 : A -> I : 30\n",
      "   6 : B -> D : 10\n",
      "   7 : B -> C : 8\n",
      "   8 : C -> B : 0\n",
      "   9 : C -> E : 0\n",
      "   10 : C -> H : 30\n",
      "   11 : D -> A : 0\n",
      "   12 : D -> E : 10\n",
      "   13 : D -> B : 10\n",
      "   14 : E -> D : 10\n",
      "   15 : E -> A : 0\n",
      "   16 : E -> F : 20\n",
      "   17 : E -> C : 15\n",
      "   18 : F -> A : 0\n",
      "   19 : F -> E : 20\n",
      "   20 : F -> H : 0\n",
      "   21 : F -> J : 20\n",
      "   22 : G -> A : 0\n",
      "   23 : G -> H : 15\n",
      "   24 : H -> G : 15\n",
      "   25 : H -> C : 30\n",
      "   26 : H -> F : 20\n",
      "   27 : H -> J : 70\n",
      "   28 : H -> I : 30\n",
      "   29 : H -> A : 0\n",
      "   30 : I -> H : 30\n",
      "   31 : I -> J : 50\n",
      "   32 : I -> A : 0\n",
      "   33 : J -> F : 0\n",
      "   34 : J -> H : 0\n",
      "   35 : J -> I : 0\n",
      "2nd Constraint\n",
      "B\n",
      "  out B -> D\n",
      "  out B -> C\n",
      "  in C -> B\n",
      "  in D -> B\n",
      "C\n",
      "  in B -> C\n",
      "  out C -> B\n",
      "  out C -> E\n",
      "  out C -> H\n",
      "  in E -> C\n",
      "  in H -> C\n",
      "D\n",
      "  in A -> D\n",
      "  in B -> D\n",
      "  out D -> A\n",
      "  out D -> E\n",
      "  out D -> B\n",
      "  in E -> D\n",
      "E\n",
      "  in A -> E\n",
      "  in C -> E\n",
      "  in D -> E\n",
      "  out E -> D\n",
      "  out E -> A\n",
      "  out E -> F\n",
      "  out E -> C\n",
      "  in F -> E\n",
      "F\n",
      "  in A -> F\n",
      "  in E -> F\n",
      "  out F -> A\n",
      "  out F -> E\n",
      "  out F -> H\n",
      "  out F -> J\n",
      "  in H -> F\n",
      "  in J -> F\n",
      "G\n",
      "  in A -> G\n",
      "  out G -> A\n",
      "  out G -> H\n",
      "  in H -> G\n",
      "H\n",
      "  in A -> H\n",
      "  in C -> H\n",
      "  in F -> H\n",
      "  in G -> H\n",
      "  out H -> G\n",
      "  out H -> C\n",
      "  out H -> F\n",
      "  out H -> J\n",
      "  out H -> I\n",
      "  out H -> A\n",
      "  in I -> H\n",
      "  in J -> H\n",
      "I\n",
      "  in A -> I\n",
      "  in H -> I\n",
      "  out I -> H\n",
      "  out I -> J\n",
      "  out I -> A\n",
      "  in J -> I\n"
     ]
    }
   ],
   "source": [
    "# constraint 1: does not exceed capacity (x[u, v] <= C{u, v})\n",
    "print(\"1st Constraint\")\n",
    "for e in enumerate(G.edges(data=True)):\n",
    "    print('  ', e[0], ':', e[1][0], '->', e[1][1], ':', e[1][2]['weight'])\n",
    "    model+=x[(e[1][0], e[1][1])] <= e[1][2]['weight']\n",
    "    \n",
    "# constraint 2: non-source & non-sink (incoming - outgoing = 0, x[(?, v)]-x[(v, ?)] = 0) \n",
    "print(\"2nd Constraint\")\n",
    "for index, v in enumerate(G.nodes):\n",
    "    if v != 'A' and v != 'J':\n",
    "        model+=lpSum(x[(e[0], e[1])] for e in G.edges() if e[1] == v)-lpSum(x[(e[0], e[1])] for e in G.edges() if e[0]==v) == 0\n",
    "        # print check of newbie OwO\n",
    "        print(v)\n",
    "        for e in G.edges():\n",
    "            if e[1] == v:\n",
    "                print('  in', e[0], '->', e[1])\n",
    "            if e[0] == v:\n",
    "                print('  out', e[0], '->', e[1])\n",
    "                \n",
    "\n",
    "# Actually I don't have to check the two left over because we just want to maximize flow. How much will it flow, that is, the value that it will send to the destination\n",
    "# constraint 3: source node (incoming - outgoing = -C)\n",
    "# constraint 4: sink node (incoing - outgoing = C)\n",
    "    \n",
    "#for u, v, d in G.edges(data=True):\n",
    "#    print(f\"({u}, {v}) {d=}\")"
   ]
  },
  {
   "cell_type": "code",
   "execution_count": 64,
   "metadata": {},
   "outputs": [
    {
     "name": "stdout",
     "output_type": "stream",
     "text": [
      "Welcome to the CBC MILP Solver \n",
      "Version: 2.10.3 \n",
      "Build Date: Dec 15 2019 \n",
      "\n",
      "command line - /home/panithi/.local/lib/python3.10/site-packages/pulp/solverdir/cbc/linux/64/cbc /tmp/00640953c5fe4e7d8090a155338b8315-pulp.mps max timeMode elapsed branch printingOptions all solution /tmp/00640953c5fe4e7d8090a155338b8315-pulp.sol (default strategy 1)\n",
      "At line 2 NAME          MODEL\n",
      "At line 3 ROWS\n",
      "At line 49 COLUMNS\n",
      "At line 215 RHS\n",
      "At line 260 BOUNDS\n",
      "At line 297 ENDATA\n",
      "Problem MODEL has 44 rows, 36 columns and 90 elements\n",
      "Coin0008I MODEL read with 0 errors\n",
      "Option for timeMode changed from cpu to elapsed\n",
      "Continuous objective value is 123 - 0.00 seconds\n",
      "Cgl0004I processed model has 8 rows, 18 columns (18 integer (0 of which binary)) and 33 elements\n",
      "Cutoff increment increased from 1e-05 to 0.9999\n",
      "Cbc0012I Integer solution of -123 found by DiveCoefficient after 0 iterations and 0 nodes (0.01 seconds)\n",
      "Cbc0001I Search completed - best objective -123, took 0 iterations and 0 nodes (0.01 seconds)\n",
      "Cbc0035I Maximum depth 0, 0 variables fixed on reduced cost\n",
      "Cuts at root node changed objective from -123 to -123\n",
      "Probing was tried 0 times and created 0 cuts of which 0 were active after adding rounds of cuts (0.000 seconds)\n",
      "Gomory was tried 0 times and created 0 cuts of which 0 were active after adding rounds of cuts (0.000 seconds)\n",
      "Knapsack was tried 0 times and created 0 cuts of which 0 were active after adding rounds of cuts (0.000 seconds)\n",
      "Clique was tried 0 times and created 0 cuts of which 0 were active after adding rounds of cuts (0.000 seconds)\n",
      "MixedIntegerRounding2 was tried 0 times and created 0 cuts of which 0 were active after adding rounds of cuts (0.000 seconds)\n",
      "FlowCover was tried 0 times and created 0 cuts of which 0 were active after adding rounds of cuts (0.000 seconds)\n",
      "TwoMirCuts was tried 0 times and created 0 cuts of which 0 were active after adding rounds of cuts (0.000 seconds)\n",
      "ZeroHalf was tried 0 times and created 0 cuts of which 0 were active after adding rounds of cuts (0.000 seconds)\n",
      "\n",
      "Result - Optimal solution found\n",
      "\n",
      "Objective value:                123.00000000\n",
      "Enumerated nodes:               0\n",
      "Total iterations:               0\n",
      "Time (CPU seconds):             0.01\n",
      "Time (Wallclock seconds):       0.02\n",
      "\n",
      "Option for printingOptions changed from normal to all\n",
      "Total time (CPU seconds):       0.01   (Wallclock seconds):       0.02\n",
      "\n"
     ]
    },
    {
     "data": {
      "text/plain": [
       "'Optimal'"
      ]
     },
     "execution_count": 64,
     "metadata": {},
     "output_type": "execute_result"
    }
   ],
   "source": [
    "model.solve()\n",
    "LpStatus[model.status]"
   ]
  },
  {
   "cell_type": "code",
   "execution_count": 65,
   "metadata": {},
   "outputs": [
    {
     "data": {
      "text/plain": [
       "123.0"
      ]
     },
     "execution_count": 65,
     "metadata": {},
     "output_type": "execute_result"
    }
   ],
   "source": [
    "model.objective.value()"
   ]
  },
  {
   "cell_type": "code",
   "execution_count": 66,
   "metadata": {},
   "outputs": [
    {
     "data": {
      "text/plain": [
       "maxflow_problem:\n",
       "MAXIMIZE\n",
       "1*e(21,_('F',_'J')) + 1*e(27,_('H',_'J')) + 1*e(31,_('I',_'J')) + 0\n",
       "SUBJECT TO\n",
       "_C1: e(0,_('A',_'F')) <= 10\n",
       "\n",
       "_C2: e(1,_('A',_'E')) <= 30\n",
       "\n",
       "_C3: e(2,_('A',_'D')) <= 15\n",
       "\n",
       "_C4: e(3,_('A',_'G')) <= 10\n",
       "\n",
       "_C5: e(4,_('A',_'H')) <= 40\n",
       "\n",
       "_C6: e(5,_('A',_'I')) <= 30\n",
       "\n",
       "_C7: e(6,_('B',_'D')) <= 10\n",
       "\n",
       "_C8: e(7,_('B',_'C')) <= 8\n",
       "\n",
       "_C9: e(8,_('C',_'B')) <= 0\n",
       "\n",
       "_C10: e(9,_('C',_'E')) <= 0\n",
       "\n",
       "_C11: e(10,_('C',_'H')) <= 30\n",
       "\n",
       "_C12: e(11,_('D',_'A')) <= 0\n",
       "\n",
       "_C13: e(12,_('D',_'E')) <= 10\n",
       "\n",
       "_C14: e(13,_('D',_'B')) <= 10\n",
       "\n",
       "_C15: e(14,_('E',_'D')) <= 10\n",
       "\n",
       "_C16: e(15,_('E',_'A')) <= 0\n",
       "\n",
       "_C17: e(16,_('E',_'F')) <= 20\n",
       "\n",
       "_C18: e(17,_('E',_'C')) <= 15\n",
       "\n",
       "_C19: e(18,_('F',_'A')) <= 0\n",
       "\n",
       "_C20: e(19,_('F',_'E')) <= 20\n",
       "\n",
       "_C21: e(20,_('F',_'H')) <= 0\n",
       "\n",
       "_C22: e(21,_('F',_'J')) <= 20\n",
       "\n",
       "_C23: e(22,_('G',_'A')) <= 0\n",
       "\n",
       "_C24: e(23,_('G',_'H')) <= 15\n",
       "\n",
       "_C25: e(24,_('H',_'G')) <= 15\n",
       "\n",
       "_C26: e(25,_('H',_'C')) <= 30\n",
       "\n",
       "_C27: e(26,_('H',_'F')) <= 20\n",
       "\n",
       "_C28: e(27,_('H',_'J')) <= 70\n",
       "\n",
       "_C29: e(28,_('H',_'I')) <= 30\n",
       "\n",
       "_C30: e(29,_('H',_'A')) <= 0\n",
       "\n",
       "_C31: e(30,_('I',_'H')) <= 30\n",
       "\n",
       "_C32: e(31,_('I',_'J')) <= 50\n",
       "\n",
       "_C33: e(32,_('I',_'A')) <= 0\n",
       "\n",
       "_C34: e(33,_('J',_'F')) <= 0\n",
       "\n",
       "_C35: e(34,_('J',_'H')) <= 0\n",
       "\n",
       "_C36: e(35,_('J',_'I')) <= 0\n",
       "\n",
       "_C37: e(13,_('D',_'B')) - e(6,_('B',_'D')) - e(7,_('B',_'C'))\n",
       " + e(8,_('C',_'B')) = 0\n",
       "\n",
       "_C38: - e(10,_('C',_'H')) + e(17,_('E',_'C')) + e(25,_('H',_'C'))\n",
       " + e(7,_('B',_'C')) - e(8,_('C',_'B')) - e(9,_('C',_'E')) = 0\n",
       "\n",
       "_C39: - e(11,_('D',_'A')) - e(12,_('D',_'E')) - e(13,_('D',_'B'))\n",
       " + e(14,_('E',_'D')) + e(2,_('A',_'D')) + e(6,_('B',_'D')) = 0\n",
       "\n",
       "_C40: e(1,_('A',_'E')) + e(12,_('D',_'E')) - e(14,_('E',_'D'))\n",
       " - e(15,_('E',_'A')) - e(16,_('E',_'F')) - e(17,_('E',_'C'))\n",
       " + e(19,_('F',_'E')) + e(9,_('C',_'E')) = 0\n",
       "\n",
       "_C41: e(0,_('A',_'F')) + e(16,_('E',_'F')) - e(18,_('F',_'A'))\n",
       " - e(19,_('F',_'E')) - e(20,_('F',_'H')) - e(21,_('F',_'J'))\n",
       " + e(26,_('H',_'F')) + e(33,_('J',_'F')) = 0\n",
       "\n",
       "_C42: - e(22,_('G',_'A')) - e(23,_('G',_'H')) + e(24,_('H',_'G'))\n",
       " + e(3,_('A',_'G')) = 0\n",
       "\n",
       "_C43: e(10,_('C',_'H')) + e(20,_('F',_'H')) + e(23,_('G',_'H'))\n",
       " - e(24,_('H',_'G')) - e(25,_('H',_'C')) - e(26,_('H',_'F'))\n",
       " - e(27,_('H',_'J')) - e(28,_('H',_'I')) - e(29,_('H',_'A'))\n",
       " + e(30,_('I',_'H')) + e(34,_('J',_'H')) + e(4,_('A',_'H')) = 0\n",
       "\n",
       "_C44: e(28,_('H',_'I')) - e(30,_('I',_'H')) - e(31,_('I',_'J'))\n",
       " - e(32,_('I',_'A')) + e(35,_('J',_'I')) + e(5,_('A',_'I')) = 0\n",
       "\n",
       "VARIABLES\n",
       "0 <= e(0,_('A',_'F')) Integer\n",
       "0 <= e(1,_('A',_'E')) Integer\n",
       "0 <= e(10,_('C',_'H')) Integer\n",
       "0 <= e(11,_('D',_'A')) Integer\n",
       "0 <= e(12,_('D',_'E')) Integer\n",
       "0 <= e(13,_('D',_'B')) Integer\n",
       "0 <= e(14,_('E',_'D')) Integer\n",
       "0 <= e(15,_('E',_'A')) Integer\n",
       "0 <= e(16,_('E',_'F')) Integer\n",
       "0 <= e(17,_('E',_'C')) Integer\n",
       "0 <= e(18,_('F',_'A')) Integer\n",
       "0 <= e(19,_('F',_'E')) Integer\n",
       "0 <= e(2,_('A',_'D')) Integer\n",
       "0 <= e(20,_('F',_'H')) Integer\n",
       "0 <= e(21,_('F',_'J')) Integer\n",
       "0 <= e(22,_('G',_'A')) Integer\n",
       "0 <= e(23,_('G',_'H')) Integer\n",
       "0 <= e(24,_('H',_'G')) Integer\n",
       "0 <= e(25,_('H',_'C')) Integer\n",
       "0 <= e(26,_('H',_'F')) Integer\n",
       "0 <= e(27,_('H',_'J')) Integer\n",
       "0 <= e(28,_('H',_'I')) Integer\n",
       "0 <= e(29,_('H',_'A')) Integer\n",
       "0 <= e(3,_('A',_'G')) Integer\n",
       "0 <= e(30,_('I',_'H')) Integer\n",
       "0 <= e(31,_('I',_'J')) Integer\n",
       "0 <= e(32,_('I',_'A')) Integer\n",
       "0 <= e(33,_('J',_'F')) Integer\n",
       "0 <= e(34,_('J',_'H')) Integer\n",
       "0 <= e(35,_('J',_'I')) Integer\n",
       "0 <= e(4,_('A',_'H')) Integer\n",
       "0 <= e(5,_('A',_'I')) Integer\n",
       "0 <= e(6,_('B',_'D')) Integer\n",
       "0 <= e(7,_('B',_'C')) Integer\n",
       "0 <= e(8,_('C',_'B')) Integer\n",
       "0 <= e(9,_('C',_'E')) Integer"
      ]
     },
     "execution_count": 66,
     "metadata": {},
     "output_type": "execute_result"
    }
   ],
   "source": [
    "model"
   ]
  }
 ],
 "metadata": {
  "interpreter": {
   "hash": "ad275f547d9d45379792f91c7bd1ec71089f06a088a10d8589d12bfbbaed25ac"
  },
  "kernelspec": {
   "display_name": "Python 3 (ipykernel)",
   "language": "python",
   "name": "python3"
  },
  "language_info": {
   "codemirror_mode": {
    "name": "ipython",
    "version": 3
   },
   "file_extension": ".py",
   "mimetype": "text/x-python",
   "name": "python",
   "nbconvert_exporter": "python",
   "pygments_lexer": "ipython3",
   "version": "3.10.6"
  },
  "pycharm": {
   "stem_cell": {
    "cell_type": "raw",
    "metadata": {
     "collapsed": false
    },
    "source": []
   }
  }
 },
 "nbformat": 4,
 "nbformat_minor": 4
}
