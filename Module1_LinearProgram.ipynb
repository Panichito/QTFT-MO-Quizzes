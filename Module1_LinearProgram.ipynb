{
 "cells": [
  {
   "cell_type": "markdown",
   "metadata": {
    "id": "_VQhOjvul2-C"
   },
   "source": [
    "# Q1: Mines operations\n",
    "\n",
    "MineKub Inc. operatres three mines in a certain area. The ore from each mine is separated into two grades before it is shipped; the daily production capacities of the mines, as well as their daily operating costs, are as follows: \n",
    "\n",
    "|| High-Grade Ore (tons/day) | Low-Grade Ore (tons/day)| Operating Cost ($1,000/day) |\n",
    "|:-:|:-: | :-:|:-: |\n",
    "|Mine 1| 4 | 4 | 20 |\n",
    "|Mine 2| 6 | 4 | 22 |\n",
    "|Mine 3| 1 | 6 | 18 |\n",
    "\n",
    "MineKub Inc. has committed itself to deliver 54 tons of high-grade ore and 65 tons of low-grade ore by the end of the week. It also has labor contracts that guarantee employees in each mine a full day’s pay for each day or fraction of a day the mine is open. Determine the number of days each mine should be operated during the upcoming week if MineKub Inc. is to fulfill its commitment at minimum total cost. \n",
    "\n",
    "Assume that all variables are continuous."
   ]
  },
  {
   "cell_type": "code",
   "execution_count": null,
   "metadata": {
    "id": "GtlT0OLwnzad"
   },
   "outputs": [],
   "source": [
    "import pulp\n",
    "from pulp import LpMinimize, LpMaximize, LpProblem, lpSum, LpVariable"
   ]
  },
  {
   "cell_type": "code",
   "execution_count": null,
   "metadata": {
    "id": "DD9-XpqpcxCr"
   },
   "outputs": [],
   "source": [
    "# variables\n",
    "mine1=LpVariable(name='mine1', lowBound=0, cat='Continuous')\n",
    "mine2=LpVariable(name='mine2', lowBound=0, cat='Continuous')\n",
    "mine3=LpVariable(name='mine3', lowBound=0, cat='Continuous')"
   ]
  },
  {
   "cell_type": "code",
   "execution_count": null,
   "metadata": {
    "colab": {
     "base_uri": "https://localhost:8080/"
    },
    "id": "fyN-vhAB-N-k",
    "outputId": "b7b969fd-30b3-42d0-9747-6cd546ebc538"
   },
   "outputs": [
    {
     "data": {
      "text/plain": [
       "mines_operation:\n",
       "MINIMIZE\n",
       "20*mine1 + 22*mine2 + 18*mine3 + 0\n",
       "SUBJECT TO\n",
       "54_tons_of_high_graded: 4 mine1 + 6 mine2 + mine3 >= 54\n",
       "\n",
       "65_tons_of_low_graded: 4 mine1 + 4 mine2 + 6 mine3 >= 65\n",
       "\n",
       "week_constraint_1: mine1 <= 7\n",
       "\n",
       "week_constraint_2: mine2 <= 7\n",
       "\n",
       "week_constraint_3: mine3 <= 7\n",
       "\n",
       "VARIABLES\n",
       "mine1 Continuous\n",
       "mine2 Continuous\n",
       "mine3 Continuous"
      ]
     },
     "execution_count": 72,
     "metadata": {},
     "output_type": "execute_result"
    }
   ],
   "source": [
    "model=LpProblem(name='mines_operation', sense=LpMinimize)\n",
    "\n",
    "# commitment constraints\n",
    "model+=(4*mine1+6*mine2+1*mine3 >= 54, '54 tons of high graded')\n",
    "model+=(4*mine1+4*mine2+6*mine3 >= 65, '65 tons of low graded')\n",
    "\n",
    "# 1 week constraint\n",
    "model+=(mine1 <= 7, 'week constraint 1')\n",
    "model+=(mine2 <= 7, 'week constraint 2')\n",
    "model+=(mine3 <= 7, 'week constraint 3')\n",
    "\n",
    "# objective function\n",
    "model+= 20*mine1+22*mine2+18*mine3\n",
    "\n",
    "model"
   ]
  },
  {
   "cell_type": "code",
   "execution_count": null,
   "metadata": {
    "colab": {
     "base_uri": "https://localhost:8080/"
    },
    "id": "aIno0-55C6_T",
    "outputId": "c0aba288-2233-4a5e-c81d-9c79236ec8c3"
   },
   "outputs": [
    {
     "data": {
      "text/plain": [
       "1"
      ]
     },
     "execution_count": 73,
     "metadata": {},
     "output_type": "execute_result"
    }
   ],
   "source": [
    "model.solve()"
   ]
  },
  {
   "cell_type": "code",
   "execution_count": null,
   "metadata": {
    "colab": {
     "base_uri": "https://localhost:8080/"
    },
    "id": "sEP94OYbDIkU",
    "outputId": "80247534-1285-4141-cb67-e39fdd95e9ce"
   },
   "outputs": [
    {
     "data": {
      "text/plain": [
       "279.0"
      ]
     },
     "execution_count": 74,
     "metadata": {},
     "output_type": "execute_result"
    }
   ],
   "source": [
    "model.objective.value()"
   ]
  },
  {
   "cell_type": "code",
   "execution_count": null,
   "metadata": {
    "colab": {
     "base_uri": "https://localhost:8080/"
    },
    "id": "Z947uxjQDLhD",
    "outputId": "8769a41a-7d88-46e9-85a9-e64cc411a030"
   },
   "outputs": [
    {
     "name": "stdout",
     "output_type": "stream",
     "text": [
      "mine1 = 1.75\n",
      "mine2 = 7.0\n",
      "mine3 = 5.0\n"
     ]
    }
   ],
   "source": [
    "for var in model.variables():\n",
    "    print(var.name+' = '+str(var.value()))"
   ]
  },
  {
   "cell_type": "markdown",
   "metadata": {
    "id": "pPSaMXjKl2-H"
   },
   "source": [
    "# Q2: Refinery\n",
    "\n",
    "The Umbrella Refining Company produces two types of unleaded gasoline, regular and premium, which it sells to its chain of service stations for $\\$ 12$ and $\\$14$ per liter, respectively. Both types are blended from Umbrella’s inventory of refined domestic oil and refined foreign oil, and must meet the following specifications: \n",
    "\n",
    "|| Max Vapor Pressure | Min Octance Rating | Max Demand (liters/wk) | Min Deliveries (liters/wk)|\n",
    "|:-:|:-: | :-:|:-: |:-: |\n",
    "|Regular| 23 | 88 | 100,000 |50,000|\n",
    "|Premium| 23 | 93 | 20,000 |5,000|\n",
    "\n",
    "The characteristics of the refined oils in inventory are as follows: \n",
    "\n",
    "|| Vapor Pressure | Octance Rating | Inventory (liters) | Cost($/liter)|\n",
    "|:-:|:-: | :-:|:-: |:-: |\n",
    "|Domestic| 25 | 87 | 40,000 |8|\n",
    "|Foreign| 15 | 98 | 60,000 |5|\n",
    "\n",
    "What quantities of the two oils should Umbrella blend into the two gasolines in order to maximize weekly profit? "
   ]
  },
  {
   "cell_type": "code",
   "execution_count": null,
   "metadata": {
    "id": "HM2aLDqkGSgB"
   },
   "outputs": [],
   "source": [
    "import pulp\n",
    "from pulp import LpMinimize, LpMaximize, LpProblem, lpSum, LpVariable"
   ]
  },
  {
   "cell_type": "code",
   "execution_count": null,
   "metadata": {
    "id": "MNAR5o6bGfYg"
   },
   "outputs": [],
   "source": [
    "# variables\n",
    "dom_reg=LpVariable(name='domestic_regular_oil', lowBound=0, cat='Continuous')\n",
    "dom_pre=LpVariable(name='domestic_premium_oil', lowBound=0, cat='Continuous')\n",
    "for_reg=LpVariable(name='foreign_regular_oil', lowBound=0, cat='Continuous')\n",
    "for_pre=LpVariable(name='foreign_premium_oil', lowBound=0, cat='Continuous')"
   ]
  },
  {
   "cell_type": "code",
   "execution_count": null,
   "metadata": {
    "colab": {
     "base_uri": "https://localhost:8080/"
    },
    "id": "fT7-tBqlGaw0",
    "outputId": "6bdbfea5-de89-42bc-ff84-f8736cc75b55"
   },
   "outputs": [
    {
     "data": {
      "text/plain": [
       "refinery:\n",
       "MAXIMIZE\n",
       "14*domestic_premium_oil + 12*domestic_regular_oil + 14*foreign_premium_oil + 12*foreign_regular_oil + -620000\n",
       "SUBJECT TO\n",
       "min_regular: domestic_regular_oil + foreign_regular_oil >= 50000\n",
       "\n",
       "max_regular: domestic_regular_oil + foreign_regular_oil <= 100000\n",
       "\n",
       "min_premium: domestic_premium_oil + foreign_premium_oil >= 5000\n",
       "\n",
       "max_premium: domestic_premium_oil + foreign_premium_oil <= 20000\n",
       "\n",
       "regular_&_premium_from_domestic: domestic_premium_oil + domestic_regular_oil\n",
       " <= 40000\n",
       "\n",
       "regular_&_premium_from_foreign: foreign_premium_oil + foreign_regular_oil\n",
       " <= 60000\n",
       "\n",
       "VARIABLES\n",
       "domestic_premium_oil Continuous\n",
       "domestic_regular_oil Continuous\n",
       "foreign_premium_oil Continuous\n",
       "foreign_regular_oil Continuous"
      ]
     },
     "execution_count": 13,
     "metadata": {},
     "output_type": "execute_result"
    }
   ],
   "source": [
    "model=LpProblem(name='refinery', sense=LpMaximize)\n",
    "\n",
    "# specifications constraint\n",
    "model+=(dom_reg+for_reg >= 50000, 'min regular')\n",
    "model+=(dom_reg+for_reg <= 100000, 'max regular')\n",
    "model+=(dom_pre+for_pre >= 5000, 'min premium')\n",
    "model+=(dom_pre+for_pre <= 20000, 'max premium')\n",
    "\n",
    "# domestic oil constraint\n",
    "model+=(dom_reg+dom_pre <= 40000, 'regular & premium from domestic')\n",
    "\n",
    "# foreign oil constraint\n",
    "model+=(for_reg+for_pre <= 60000, 'regular & premium from foreign')\n",
    "\n",
    "# objective function (selling price - cost = profit)\n",
    "#model+=(12*dom_reg+12*for_reg+14*dom_pre+14*for_pre) - (8*dom_reg+8*dom_pre+5*for_reg+5*for_pre)\n",
    "model+=(12*dom_reg+12*for_reg+14*dom_pre+14*for_pre) - 620000\n",
    "\n",
    "model"
   ]
  },
  {
   "cell_type": "code",
   "execution_count": null,
   "metadata": {
    "colab": {
     "base_uri": "https://localhost:8080/"
    },
    "id": "5kIC4pOZKGs8",
    "outputId": "fded43a3-72d2-4933-9164-c76734b20101"
   },
   "outputs": [
    {
     "data": {
      "text/plain": [
       "1"
      ]
     },
     "execution_count": 14,
     "metadata": {},
     "output_type": "execute_result"
    }
   ],
   "source": [
    "model.solve()"
   ]
  },
  {
   "cell_type": "code",
   "execution_count": null,
   "metadata": {
    "colab": {
     "base_uri": "https://localhost:8080/"
    },
    "id": "-e4CFIHcKJTa",
    "outputId": "fe5a098a-d68e-4db6-cc55-6637b38174d8"
   },
   "outputs": [
    {
     "data": {
      "text/plain": [
       "620000.0"
      ]
     },
     "execution_count": 15,
     "metadata": {},
     "output_type": "execute_result"
    }
   ],
   "source": [
    "model.objective.value()"
   ]
  },
  {
   "cell_type": "code",
   "execution_count": null,
   "metadata": {
    "colab": {
     "base_uri": "https://localhost:8080/"
    },
    "id": "uYHQVmHvLNUN",
    "outputId": "56da6d3a-6139-44e7-9787-7f2efe3a32c2"
   },
   "outputs": [
    {
     "name": "stdout",
     "output_type": "stream",
     "text": [
      "domestic_premium_oil = 0.0\n",
      "domestic_regular_oil = 40000.0\n",
      "foreign_premium_oil = 20000.0\n",
      "foreign_regular_oil = 40000.0\n"
     ]
    }
   ],
   "source": [
    "for var in model.variables():\n",
    "    print(var.name+' = '+str(var.value()))"
   ]
  }
 ],
 "metadata": {
  "colab": {
   "provenance": []
  },
  "gpuClass": "standard",
  "kernelspec": {
   "display_name": "Python 3 (ipykernel)",
   "language": "python",
   "name": "python3"
  },
  "language_info": {
   "codemirror_mode": {
    "name": "ipython",
    "version": 3
   },
   "file_extension": ".py",
   "mimetype": "text/x-python",
   "name": "python",
   "nbconvert_exporter": "python",
   "pygments_lexer": "ipython3",
   "version": "3.10.6"
  }
 },
 "nbformat": 4,
 "nbformat_minor": 1
}
