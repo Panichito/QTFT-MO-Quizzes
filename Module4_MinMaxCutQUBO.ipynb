{
 "cells": [
  {
   "cell_type": "markdown",
   "metadata": {
    "pycharm": {
     "name": "#%% md\n"
    }
   },
   "source": [
    "# Mincut/Maxcut problem"
   ]
  },
  {
   "cell_type": "markdown",
   "metadata": {
    "pycharm": {
     "name": "#%% md\n"
    }
   },
   "source": [
    "A network is represent by a set of links shown below. Each vertex represents a person that the government can bribe (in the way mentioned in the lecture video). The price to bribe each person is also shown in the data below. \n",
    "\n",
    "Find the set of person to bribe such that the government gets the maximum amount of secret data. Then calculate the total price needed to bribe those people.\n",
    "\n",
    "Solve this problem using ILP and, if you have an access to Gurobi solver, using QUBO."
   ]
  },
  {
   "cell_type": "code",
   "execution_count": 56,
   "metadata": {},
   "outputs": [],
   "source": [
    "bribe_price = {0: 12,\n",
    "            1: 10,\n",
    "            2: 5,\n",
    "            3: 4,\n",
    "            4: 10,\n",
    "            5: 20,\n",
    "            6: 10,\n",
    "            7: 5,\n",
    "            8: 4,\n",
    "            9: 10,\n",
    "            10: 20,\n",
    "            11: 10,\n",
    "            12: 5,\n",
    "            13: 4,\n",
    "            14: 10,\n",
    "            15: 20\n",
    "}\n",
    "\n",
    "link = [(0,1),\n",
    "        (0,4),\n",
    "        (1,5),\n",
    "        (1,7),\n",
    "        (1,8),\n",
    "        (1,9),\n",
    "        (1,14),\n",
    "        (1,15),\n",
    "        (2,3),\n",
    "        (3,4),\n",
    "        (4,6),\n",
    "        (4,7),\n",
    "        (4,8),\n",
    "        (4,11),\n",
    "        (4,13),\n",
    "        (4,15),\n",
    "        (5,6),\n",
    "        (5,15),\n",
    "        (6,7),\n",
    "        (6,8),\n",
    "        (7,10),\n",
    "        (7,11),\n",
    "        (7,14),\n",
    "        (8,10),\n",
    "        (9,13),\n",
    "        (10,11),\n",
    "        (10,12),\n",
    "        (10,13),\n",
    "        (10,14),\n",
    "        (10,15),\n",
    "        (11,12),\n",
    "        (12,15),\n",
    "        (13,14),\n",
    "        (14,15)\n",
    "        ]"
   ]
  },
  {
   "cell_type": "code",
   "execution_count": 57,
   "metadata": {},
   "outputs": [],
   "source": [
    "# using QUBO\n",
    "import numpy as np\n",
    "import gurobipy as gp\n",
    "from gurobipy import GRB"
   ]
  },
  {
   "cell_type": "code",
   "execution_count": 58,
   "metadata": {},
   "outputs": [],
   "source": [
    "# for {u, v} in Edge\n",
    "# qubo = Xu(1-Xv) + Xv(1-Xu)\n",
    "# qubo = Xu-XuXv + Xv-XuXv\n",
    "# qubo = Xu + Xv - 2*Xu*Xv\n",
    "\n",
    "# (binary 1^2 = 1)\n",
    "#     Xu   Xv\n",
    "#  Xu[1    -1]\n",
    "#  Xv[-1    1]"
   ]
  },
  {
   "cell_type": "code",
   "execution_count": 78,
   "metadata": {},
   "outputs": [
    {
     "data": {
      "text/plain": [
       "array([[ 2, -1,  0,  0, -1,  0,  0,  0,  0,  0,  0,  0,  0,  0,  0,  0],\n",
       "       [-1,  7,  0,  0,  0, -1,  0, -1, -1, -1,  0,  0,  0,  0, -1, -1],\n",
       "       [ 0,  0,  1, -1,  0,  0,  0,  0,  0,  0,  0,  0,  0,  0,  0,  0],\n",
       "       [ 0,  0, -1,  2, -1,  0,  0,  0,  0,  0,  0,  0,  0,  0,  0,  0],\n",
       "       [-1,  0,  0, -1,  8,  0, -1, -1, -1,  0,  0, -1,  0, -1,  0, -1],\n",
       "       [ 0, -1,  0,  0,  0,  3, -1,  0,  0,  0,  0,  0,  0,  0,  0, -1],\n",
       "       [ 0,  0,  0,  0, -1, -1,  4, -1, -1,  0,  0,  0,  0,  0,  0,  0],\n",
       "       [ 0, -1,  0,  0, -1,  0, -1,  6,  0,  0, -1, -1,  0,  0, -1,  0],\n",
       "       [ 0, -1,  0,  0, -1,  0, -1,  0,  4,  0, -1,  0,  0,  0,  0,  0],\n",
       "       [ 0, -1,  0,  0,  0,  0,  0,  0,  0,  2,  0,  0,  0, -1,  0,  0],\n",
       "       [ 0,  0,  0,  0,  0,  0,  0, -1, -1,  0,  7, -1, -1, -1, -1, -1],\n",
       "       [ 0,  0,  0,  0, -1,  0,  0, -1,  0,  0, -1,  4, -1,  0,  0,  0],\n",
       "       [ 0,  0,  0,  0,  0,  0,  0,  0,  0,  0, -1, -1,  3,  0,  0, -1],\n",
       "       [ 0,  0,  0,  0, -1,  0,  0,  0,  0, -1, -1,  0,  0,  4, -1,  0],\n",
       "       [ 0, -1,  0,  0,  0,  0,  0, -1,  0,  0, -1,  0,  0, -1,  5, -1],\n",
       "       [ 0, -1,  0,  0, -1, -1,  0,  0,  0,  0, -1,  0, -1,  0, -1,  6]])"
      ]
     },
     "execution_count": 78,
     "metadata": {},
     "output_type": "execute_result"
    }
   ],
   "source": [
    "N=len(bribe_price)\n",
    "\n",
    "def construct_qubo_matrix():\n",
    "    qubo_matrix=[[0] * N for _ in range(N)]  # N * N\n",
    "    \n",
    "    for u, v in link:\n",
    "        #print(u, v)\n",
    "        # Xu + Xv - 2*Xu*Xv\n",
    "        '''\n",
    "        qubo_matrix[u][u]+=1*bribe_price[u]\n",
    "        qubo_matrix[u][v]-=1*bribe_price[u]*bribe_price[v]\n",
    "        qubo_matrix[v][u]-=1*bribe_price[u]*bribe_price[v]\n",
    "        qubo_matrix[v][v]+=1*bribe_price[v]\n",
    "        '''\n",
    "        qubo_matrix[u][u]+=1\n",
    "        qubo_matrix[u][v]-=1\n",
    "        qubo_matrix[v][u]-=1\n",
    "        qubo_matrix[v][v]+=1\n",
    "\n",
    "    \n",
    "    return qubo_matrix\n",
    "\n",
    "qubo=construct_qubo_matrix()\n",
    "qubo=np.array(qubo)\n",
    "qubo"
   ]
  },
  {
   "cell_type": "code",
   "execution_count": 79,
   "metadata": {},
   "outputs": [
    {
     "name": "stdout",
     "output_type": "stream",
     "text": [
      "Set parameter TimeLimit to value 60\n"
     ]
    }
   ],
   "source": [
    "m=gp.Model('Maxcut_Problem')\n",
    "m.setParam('TimeLimit', 60)"
   ]
  },
  {
   "cell_type": "code",
   "execution_count": 80,
   "metadata": {},
   "outputs": [
    {
     "data": {
      "text/plain": [
       "<MVar (16,)>\n",
       "array([<gurobi.Var *Awaiting Model Update*>,\n",
       "       <gurobi.Var *Awaiting Model Update*>,\n",
       "       <gurobi.Var *Awaiting Model Update*>,\n",
       "       <gurobi.Var *Awaiting Model Update*>,\n",
       "       <gurobi.Var *Awaiting Model Update*>,\n",
       "       <gurobi.Var *Awaiting Model Update*>,\n",
       "       <gurobi.Var *Awaiting Model Update*>,\n",
       "       <gurobi.Var *Awaiting Model Update*>,\n",
       "       <gurobi.Var *Awaiting Model Update*>,\n",
       "       <gurobi.Var *Awaiting Model Update*>,\n",
       "       <gurobi.Var *Awaiting Model Update*>,\n",
       "       <gurobi.Var *Awaiting Model Update*>,\n",
       "       <gurobi.Var *Awaiting Model Update*>,\n",
       "       <gurobi.Var *Awaiting Model Update*>,\n",
       "       <gurobi.Var *Awaiting Model Update*>,\n",
       "       <gurobi.Var *Awaiting Model Update*>])"
      ]
     },
     "execution_count": 80,
     "metadata": {},
     "output_type": "execute_result"
    }
   ],
   "source": [
    "x=m.addMVar(N, vtype=GRB.BINARY)\n",
    "x"
   ]
  },
  {
   "cell_type": "code",
   "execution_count": 81,
   "metadata": {},
   "outputs": [
    {
     "name": "stdout",
     "output_type": "stream",
     "text": [
      "Gurobi Optimizer version 10.0.1 build v10.0.1rc0 (linux64)\n",
      "\n",
      "CPU model: Intel(R) Core(TM) i5-7200U CPU @ 2.50GHz, instruction set [SSE2|AVX|AVX2]\n",
      "Thread count: 2 physical cores, 4 logical processors, using up to 4 threads\n",
      "\n",
      "Optimize a model with 0 rows, 16 columns and 0 nonzeros\n",
      "Model fingerprint: 0x34a7a39c\n",
      "Model has 50 quadratic objective terms\n",
      "Variable types: 0 continuous, 16 integer (16 binary)\n",
      "Coefficient statistics:\n",
      "  Matrix range     [0e+00, 0e+00]\n",
      "  Objective range  [0e+00, 0e+00]\n",
      "  QObjective range [2e+00, 2e+01]\n",
      "  Bounds range     [1e+00, 1e+00]\n",
      "  RHS range        [0e+00, 0e+00]\n",
      "Found heuristic solution: objective -0.0000000\n",
      "Found heuristic solution: objective 27.0000000\n",
      "Presolve removed 0 rows and 4 columns\n",
      "Presolve time: 0.00s\n",
      "Presolved: 23 rows, 35 columns, 69 nonzeros\n",
      "Variable types: 0 continuous, 35 integer (35 binary)\n",
      "\n",
      "Root relaxation: objective 3.050000e+01, 15 iterations, 0.00 seconds (0.00 work units)\n",
      "\n",
      "    Nodes    |    Current Node    |     Objective Bounds      |     Work\n",
      " Expl Unexpl |  Obj  Depth IntInf | Incumbent    BestBd   Gap | It/Node Time\n",
      "\n",
      "     0     0   30.50000    0   11   27.00000   30.50000  13.0%     -    0s\n",
      "     0     0     cutoff    0        27.00000   27.00000  0.00%     -    0s\n",
      "\n",
      "Cutting planes:\n",
      "  MIR: 5\n",
      "  Zero half: 4\n",
      "  RLT: 1\n",
      "  BQP: 1\n",
      "\n",
      "Explored 1 nodes (29 simplex iterations) in 0.05 seconds (0.00 work units)\n",
      "Thread count was 4 (of 4 available processors)\n",
      "\n",
      "Solution count 2: 27 -0 \n",
      "\n",
      "Optimal solution found (tolerance 1.00e-04)\n",
      "Best objective 2.700000000000e+01, best bound 2.700000000000e+01, gap 0.0000%\n",
      "27.0\n"
     ]
    }
   ],
   "source": [
    "objectives=gp.QuadExpr()\n",
    "for i in range(N):\n",
    "    for j in range(N):\n",
    "        objectives+=x[i]*qubo[i][j]*x[j]\n",
    "#m.setObjective(objectives, GRB.MINIMIZE)\n",
    "#m.setObjective(objectives, GRB.MAXIMIZE)\n",
    "\n",
    "#m.setObjective(x @ qubo @ x, GRB.MINIMIZE)\n",
    "m.setObjective(x @ qubo @ x, GRB.MAXIMIZE)\n",
    "\n",
    "m.optimize()\n",
    "obj=m.getObjective()\n",
    "print(obj.getValue())\n",
    "\n",
    "m.write('mincut.sol')"
   ]
  },
  {
   "cell_type": "code",
   "execution_count": 82,
   "metadata": {
    "scrolled": true
   },
   "outputs": [
    {
     "name": "stdout",
     "output_type": "stream",
     "text": [
      "Maximize\n",
      "0.0 + [ 2.0 C0 ^ 2 + -2.0 C0 * C1 + -2.0 C0 * C4 + 7.0 C1 ^ 2 + -2.0 C1 * C5 +\n",
      "-2.0 C1 * C7 + -2.0 C1 * C8 + -2.0 C1 * C9 + -2.0 C1 * C14 + -2.0 C1 * C15 + C2 ^ 2 +\n",
      "-2.0 C2 * C3 + 2.0 C3 ^ 2 + -2.0 C3 * C4 + 8.0 C4 ^ 2 + -2.0 C4 * C6 + -2.0 C4 * C7 +\n",
      "-2.0 C4 * C8 + -2.0 C4 * C11 + -2.0 C4 * C13 + -2.0 C4 * C15 + 3.0 C5 ^ 2 + -2.0 C5 * C6\n",
      "+ -2.0 C5 * C15 + 4.0 C6 ^ 2 + -2.0 C6 * C7 + -2.0 C6 * C8 + 6.0 C7 ^ 2 + -2.0 C7 * C10\n",
      "+ -2.0 C7 * C11 + -2.0 C7 * C14 + 4.0 C8 ^ 2 + -2.0 C8 * C10 + 2.0 C9 ^ 2 +\n",
      "-2.0 C9 * C13 + 7.0 C10 ^ 2 + -2.0 C10 * C11 + -2.0 C10 * C12 + -2.0 C10 * C13 +\n",
      "-2.0 C10 * C14 + -2.0 C10 * C15 + 4.0 C11 ^ 2 + -2.0 C11 * C12 + 3.0 C12 ^ 2 +\n",
      "-2.0 C12 * C15 + 4.0 C13 ^ 2 + -2.0 C13 * C14 + 5.0 C14 ^ 2 + -2.0 C14 * C15\n",
      "+ 6.0 C15 ^ 2 ]\n",
      "Subject To\n",
      "Binaries\n",
      "['C0', 'C1', 'C2', 'C3', 'C4', 'C5', 'C6', 'C7', 'C8', 'C9', 'C10', 'C11', 'C12',\n",
      " 'C13', 'C14', 'C15']\n",
      "None\n"
     ]
    }
   ],
   "source": [
    "print(m.display())"
   ]
  },
  {
   "cell_type": "code",
   "execution_count": 84,
   "metadata": {},
   "outputs": [
    {
     "name": "stdout",
     "output_type": "stream",
     "text": [
      "C1 0.0\n",
      "C2 0.0\n",
      "C4 0.0\n",
      "C6 0.0\n",
      "C10 0.0\n",
      "C12 0.0\n",
      "C14 0.0\n",
      "Number of person to bribe is 7\n",
      "Total price is 70\n"
     ]
    }
   ],
   "source": [
    "cnt_node=0\n",
    "total_cost=0\n",
    "for index, c in enumerate(m.getVars()):\n",
    "    if c.x < 0.5:  # qubo not select but we select because it five me a correct answer?\n",
    "        cnt_node+=1\n",
    "        total_cost+=bribe_price[index]\n",
    "        print(c.varName, c.x)\n",
    "    \n",
    "print(\"Number of person to bribe is\", cnt_node)\n",
    "print(\"Total price is\", total_cost)"
   ]
  }
 ],
 "metadata": {
  "interpreter": {
   "hash": "ad275f547d9d45379792f91c7bd1ec71089f06a088a10d8589d12bfbbaed25ac"
  },
  "kernelspec": {
   "display_name": "Python 3 (ipykernel)",
   "language": "python",
   "name": "python3"
  },
  "language_info": {
   "codemirror_mode": {
    "name": "ipython",
    "version": 3
   },
   "file_extension": ".py",
   "mimetype": "text/x-python",
   "name": "python",
   "nbconvert_exporter": "python",
   "pygments_lexer": "ipython3",
   "version": "3.10.6"
  },
  "pycharm": {
   "stem_cell": {
    "cell_type": "raw",
    "metadata": {
     "collapsed": false
    },
    "source": []
   }
  }
 },
 "nbformat": 4,
 "nbformat_minor": 4
}
