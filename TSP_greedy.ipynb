{
 "cells": [
  {
   "cell_type": "code",
   "execution_count": 46,
   "id": "2bc29bd8",
   "metadata": {},
   "outputs": [],
   "source": [
    "import numpy as np\n",
    "import matplotlib.pyplot as plt\n",
    "import pandas as pd\n",
    "from scipy.spatial import distance_matrix"
   ]
  },
  {
   "cell_type": "code",
   "execution_count": 48,
   "id": "505c973b",
   "metadata": {},
   "outputs": [
    {
     "data": {
      "text/html": [
       "<div>\n",
       "<style scoped>\n",
       "    .dataframe tbody tr th:only-of-type {\n",
       "        vertical-align: middle;\n",
       "    }\n",
       "\n",
       "    .dataframe tbody tr th {\n",
       "        vertical-align: top;\n",
       "    }\n",
       "\n",
       "    .dataframe thead th {\n",
       "        text-align: right;\n",
       "    }\n",
       "</style>\n",
       "<table border=\"1\" class=\"dataframe\">\n",
       "  <thead>\n",
       "    <tr style=\"text-align: right;\">\n",
       "      <th></th>\n",
       "      <th>x</th>\n",
       "      <th>y</th>\n",
       "    </tr>\n",
       "  </thead>\n",
       "  <tbody>\n",
       "    <tr>\n",
       "      <th>0</th>\n",
       "      <td>0</td>\n",
       "      <td>0</td>\n",
       "    </tr>\n",
       "    <tr>\n",
       "      <th>1</th>\n",
       "      <td>18</td>\n",
       "      <td>1</td>\n",
       "    </tr>\n",
       "    <tr>\n",
       "      <th>2</th>\n",
       "      <td>8</td>\n",
       "      <td>46</td>\n",
       "    </tr>\n",
       "    <tr>\n",
       "      <th>3</th>\n",
       "      <td>73</td>\n",
       "      <td>72</td>\n",
       "    </tr>\n",
       "    <tr>\n",
       "      <th>4</th>\n",
       "      <td>44</td>\n",
       "      <td>41</td>\n",
       "    </tr>\n",
       "    <tr>\n",
       "      <th>5</th>\n",
       "      <td>56</td>\n",
       "      <td>26</td>\n",
       "    </tr>\n",
       "    <tr>\n",
       "      <th>6</th>\n",
       "      <td>13</td>\n",
       "      <td>66</td>\n",
       "    </tr>\n",
       "    <tr>\n",
       "      <th>7</th>\n",
       "      <td>87</td>\n",
       "      <td>39</td>\n",
       "    </tr>\n",
       "    <tr>\n",
       "      <th>8</th>\n",
       "      <td>4</td>\n",
       "      <td>63</td>\n",
       "    </tr>\n",
       "    <tr>\n",
       "      <th>9</th>\n",
       "      <td>25</td>\n",
       "      <td>32</td>\n",
       "    </tr>\n",
       "    <tr>\n",
       "      <th>10</th>\n",
       "      <td>79</td>\n",
       "      <td>73</td>\n",
       "    </tr>\n",
       "    <tr>\n",
       "      <th>11</th>\n",
       "      <td>57</td>\n",
       "      <td>2</td>\n",
       "    </tr>\n",
       "    <tr>\n",
       "      <th>12</th>\n",
       "      <td>75</td>\n",
       "      <td>41</td>\n",
       "    </tr>\n",
       "    <tr>\n",
       "      <th>13</th>\n",
       "      <td>59</td>\n",
       "      <td>57</td>\n",
       "    </tr>\n",
       "    <tr>\n",
       "      <th>14</th>\n",
       "      <td>22</td>\n",
       "      <td>31</td>\n",
       "    </tr>\n",
       "    <tr>\n",
       "      <th>15</th>\n",
       "      <td>7</td>\n",
       "      <td>26</td>\n",
       "    </tr>\n",
       "    <tr>\n",
       "      <th>16</th>\n",
       "      <td>69</td>\n",
       "      <td>79</td>\n",
       "    </tr>\n",
       "    <tr>\n",
       "      <th>17</th>\n",
       "      <td>83</td>\n",
       "      <td>26</td>\n",
       "    </tr>\n",
       "    <tr>\n",
       "      <th>18</th>\n",
       "      <td>70</td>\n",
       "      <td>61</td>\n",
       "    </tr>\n",
       "    <tr>\n",
       "      <th>19</th>\n",
       "      <td>90</td>\n",
       "      <td>29</td>\n",
       "    </tr>\n",
       "    <tr>\n",
       "      <th>20</th>\n",
       "      <td>9</td>\n",
       "      <td>80</td>\n",
       "    </tr>\n",
       "    <tr>\n",
       "      <th>21</th>\n",
       "      <td>45</td>\n",
       "      <td>47</td>\n",
       "    </tr>\n",
       "    <tr>\n",
       "      <th>22</th>\n",
       "      <td>37</td>\n",
       "      <td>71</td>\n",
       "    </tr>\n",
       "    <tr>\n",
       "      <th>23</th>\n",
       "      <td>96</td>\n",
       "      <td>28</td>\n",
       "    </tr>\n",
       "    <tr>\n",
       "      <th>24</th>\n",
       "      <td>67</td>\n",
       "      <td>88</td>\n",
       "    </tr>\n",
       "  </tbody>\n",
       "</table>\n",
       "</div>"
      ],
      "text/plain": [
       "     x   y\n",
       "0    0   0\n",
       "1   18   1\n",
       "2    8  46\n",
       "3   73  72\n",
       "4   44  41\n",
       "5   56  26\n",
       "6   13  66\n",
       "7   87  39\n",
       "8    4  63\n",
       "9   25  32\n",
       "10  79  73\n",
       "11  57   2\n",
       "12  75  41\n",
       "13  59  57\n",
       "14  22  31\n",
       "15   7  26\n",
       "16  69  79\n",
       "17  83  26\n",
       "18  70  61\n",
       "19  90  29\n",
       "20   9  80\n",
       "21  45  47\n",
       "22  37  71\n",
       "23  96  28\n",
       "24  67  88"
      ]
     },
     "execution_count": 48,
     "metadata": {},
     "output_type": "execute_result"
    }
   ],
   "source": [
    "n_point=25\n",
    "np.random.seed(2002)\n",
    "\n",
    "df=pd.DataFrame({\n",
    "    'x': np.random.randint(0, 100, n_point),\n",
    "    'y': np.random.randint(0, 100, n_point),\n",
    "})\n",
    "\n",
    "df.iloc[0]['x']=0\n",
    "df.iloc[0]['y']=0\n",
    "\n",
    "df"
   ]
  },
  {
   "cell_type": "code",
   "execution_count": 49,
   "id": "680602d2",
   "metadata": {},
   "outputs": [],
   "source": [
    "d=distance_matrix(df[['x', 'y']].values, df[['x', 'y']].values)"
   ]
  },
  {
   "cell_type": "code",
   "execution_count": 50,
   "id": "e1992a74",
   "metadata": {},
   "outputs": [
    {
     "data": {
      "text/plain": [
       "array([  0.        ,  18.02775638,  46.69047012, 102.53292154,\n",
       "        60.14149982,  61.74139616,  67.26812024,  95.34149149,\n",
       "        63.12685641,  40.60788101, 107.56393448,  57.03507693,\n",
       "        85.47514259,  82.03657721,  38.01315562,  26.92582404,\n",
       "       104.89041901,  86.97700846,  92.84934033,  94.5568612 ,\n",
       "        80.50465825,  65.06919394,  80.0624756 , 100.        ,\n",
       "       110.60289327])"
      ]
     },
     "execution_count": 50,
     "metadata": {},
     "output_type": "execute_result"
    }
   ],
   "source": [
    "d[0]"
   ]
  },
  {
   "cell_type": "code",
   "execution_count": 51,
   "id": "90f23e56",
   "metadata": {},
   "outputs": [
    {
     "data": {
      "image/png": "[encoded data removed]",
      "text/plain": [
       "<Figure size 360x360 with 1 Axes>"
      ]
     },
     "metadata": {
      "needs_background": "light"
     },
     "output_type": "display_data"
    }
   ],
   "source": [
    "plt.figure(figsize=(5, 5))\n",
    "plt.scatter(df['x'], df['y'])\n",
    "\n",
    "plt.xlim([-10, 100])\n",
    "plt.ylim([-10, 100])\n",
    "plt.show()"
   ]
  },
  {
   "cell_type": "code",
   "execution_count": 52,
   "id": "cf8d3389",
   "metadata": {},
   "outputs": [],
   "source": [
    "location_list=np.arange(1, n_point)\n",
    "path=[0]"
   ]
  },
  {
   "cell_type": "code",
   "execution_count": 57,
   "id": "1e45ad0a",
   "metadata": {},
   "outputs": [
    {
     "name": "stdout",
     "output_type": "stream",
     "text": [
      "[2, 3, 4, 5, 6, 7, 8, 10, 11, 12, 13, 16, 17, 18, 19, 20, 21, 22, 23, 24]\n",
      "[2, 3, 5, 6, 7, 8, 10, 11, 12, 13, 16, 17, 18, 19, 20, 21, 22, 23, 24]\n",
      "[2, 3, 5, 6, 7, 8, 10, 11, 12, 13, 16, 17, 18, 19, 20, 22, 23, 24]\n",
      "[2, 3, 5, 6, 7, 8, 10, 11, 12, 16, 17, 18, 19, 20, 22, 23, 24]\n",
      "[2, 3, 5, 6, 7, 8, 10, 11, 12, 16, 17, 19, 20, 22, 23, 24]\n",
      "[2, 5, 6, 7, 8, 10, 11, 12, 16, 17, 19, 20, 22, 23, 24]\n",
      "[2, 5, 6, 7, 8, 11, 12, 16, 17, 19, 20, 22, 23, 24]\n",
      "[2, 5, 6, 7, 8, 11, 12, 17, 19, 20, 22, 23, 24]\n",
      "[2, 5, 6, 7, 8, 11, 12, 17, 19, 20, 22, 23]\n",
      "[2, 5, 6, 7, 8, 11, 12, 17, 19, 20, 23]\n",
      "[2, 5, 7, 8, 11, 12, 17, 19, 20, 23]\n",
      "[2, 5, 7, 11, 12, 17, 19, 20, 23]\n",
      "[5, 7, 11, 12, 17, 19, 20, 23]\n",
      "[5, 7, 11, 12, 17, 19, 23]\n",
      "[7, 11, 12, 17, 19, 23]\n",
      "[7, 12, 17, 19, 23]\n",
      "[7, 12, 19, 23]\n",
      "[7, 12, 23]\n",
      "[7, 12]\n",
      "[12]\n",
      "[]\n"
     ]
    }
   ],
   "source": [
    "while len(location_list) > 0:\n",
    "    current_location=path[-1]\n",
    "\n",
    "    # sort by value\n",
    "    value, index=min((value, index) for (index, value) in enumerate(d[current_location][location_list]))\n",
    "    next_location=location_list[index]\n",
    "    #print(next_location)\n",
    "    path.append(next_location)\n",
    "    #print(path)\n",
    "    location_list=list(location_list)\n",
    "    location_list.remove(next_location)\n",
    "    print(location_list)"
   ]
  },
  {
   "cell_type": "code",
   "execution_count": 59,
   "id": "793dd526",
   "metadata": {},
   "outputs": [
    {
     "name": "stdout",
     "output_type": "stream",
     "text": [
      "[0, 1, 1, 15, 14, 9, 4, 21, 13, 18, 3, 10, 16, 24, 22, 6, 8, 2, 20, 5, 11, 17, 19, 23, 7, 12]\n"
     ]
    }
   ],
   "source": [
    "print(path)"
   ]
  },
  {
   "cell_type": "code",
   "execution_count": 72,
   "id": "7ca8a4e3",
   "metadata": {},
   "outputs": [
    {
     "name": "stdout",
     "output_type": "stream",
     "text": [
      "[(0, 1), (1, 1), (1, 15), (15, 14), (14, 9), (9, 4), (4, 21), (21, 13), (13, 18), (18, 3), (3, 10), (10, 16), (16, 24), (24, 22), (22, 6), (6, 8), (8, 2), (2, 20), (20, 5), (5, 11), (11, 17), (17, 19), (19, 23), (23, 7), (7, 12), (12, 0)]\n"
     ]
    }
   ],
   "source": [
    "#routes=[(path[i], path[i+1]) for i in range(n_point)]\n",
    "routes=[(path[i], path[i+1]) for i in range(len(path)-1)]+[(path[-1], 0)]\n",
    "print(routes)"
   ]
  },
  {
   "cell_type": "code",
   "execution_count": 73,
   "id": "8cdb5cca",
   "metadata": {},
   "outputs": [
    {
     "data": {
      "image/png": "[encoded data removed]",
      "text/plain": [
       "<Figure size 360x360 with 1 Axes>"
      ]
     },
     "metadata": {
      "needs_background": "light"
     },
     "output_type": "display_data"
    }
   ],
   "source": [
    "from matplotlib.patches import ArrowStyle\n",
    "plt.figure(figsize=(5, 5))\n",
    "plt.scatter(df['x'], df['y'])\n",
    "\n",
    "arrowprops=dict(arrowstyle='->')\n",
    "for i, j in routes:\n",
    "    plt.annotate('', xy=[df.iloc[j]['x'], df.iloc[j]['y']], xytext=[df.iloc[i]['x'], df.iloc[i]['y']], arrowprops=arrowprops)\n",
    "    \n",
    "\n",
    "plt.xlim([-10, 100])\n",
    "plt.ylim([-10, 100])\n",
    "plt.show()"
   ]
  }
 ],
 "metadata": {
  "kernelspec": {
   "display_name": "Python 3 (ipykernel)",
   "language": "python",
   "name": "python3"
  },
  "language_info": {
   "codemirror_mode": {
    "name": "ipython",
    "version": 3
   },
   "file_extension": ".py",
   "mimetype": "text/x-python",
   "name": "python",
   "nbconvert_exporter": "python",
   "pygments_lexer": "ipython3",
   "version": "3.10.6"
  }
 },
 "nbformat": 4,
 "nbformat_minor": 5
}
