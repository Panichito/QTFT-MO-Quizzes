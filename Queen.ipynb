{
 "cells": [
  {
   "cell_type": "code",
   "execution_count": 92,
   "id": "6c3abaeb",
   "metadata": {},
   "outputs": [],
   "source": [
    "import numpy as np\n",
    "import gurobipy as gp\n",
    "from gurobipy import GRB"
   ]
  },
  {
   "cell_type": "code",
   "execution_count": 93,
   "id": "27831c84",
   "metadata": {},
   "outputs": [
    {
     "name": "stdout",
     "output_type": "stream",
     "text": [
      "[1 5 9]\n"
     ]
    },
    {
     "data": {
      "text/plain": [
       "array([[1, 0, 0],\n",
       "       [0, 5, 0],\n",
       "       [0, 0, 9]])"
      ]
     },
     "execution_count": 93,
     "metadata": {},
     "output_type": "execute_result"
    }
   ],
   "source": [
    "a=np.array([[1, 2, 3], [4, 5, 6], [7, 8, 9]])\n",
    "b=np.diag(a)\n",
    "print(b)\n",
    "np.diag(b)  # convert back to NxN"
   ]
  },
  {
   "cell_type": "code",
   "execution_count": 94,
   "id": "1f9443ca",
   "metadata": {},
   "outputs": [],
   "source": [
    "class QuboPoly():\n",
    "    def __init__(self, n=1024):\n",
    "        self.array=np.zeros((n, n), dtype=int)\n",
    "        self.constant=0\n",
    "        self._size=n\n",
    "    \n",
    "    def add_term(self, i, j, c):\n",
    "        if i>=self._size or j>=self._size:\n",
    "            raise RuntimeError(\"Wrong index\")\n",
    "        self.array[i][j]+=c\n",
    "        \n",
    "    def add_constant(self, c):\n",
    "        self.constant+=c\n",
    "        \n",
    "    def sum(self, p):\n",
    "        if self._size != p._size:\n",
    "            raise RuntimeError(\"Wrong polynomial size\")\n",
    "        self.array+=p.array\n",
    "        self.constant+=p.constant\n",
    "        \n",
    "    def power(self):\n",
    "        a=np.diag(self.array)\n",
    "        self.array=np.outer(a, a) + 2*self.constant*np.diag(a) # convert back to NxN\n",
    "        self.constant**=2\n",
    "        \n",
    "    def multiply(self, p):\n",
    "        a=np.diag(self.array)\n",
    "        b=np.diag(p.array)\n",
    "        self.array=np.outer(a, b) + self.constant*np.diag(b) + p.constant*np.diag(a)\n",
    "        self.constant*=p.constant"
   ]
  },
  {
   "cell_type": "code",
   "execution_count": 106,
   "id": "f585cd01",
   "metadata": {},
   "outputs": [
    {
     "name": "stdout",
     "output_type": "stream",
     "text": [
      "[[ 0  1  2  3]\n",
      " [ 4  5  6  7]\n",
      " [ 8  9 10 11]\n",
      " [12 13 14 15]]\n"
     ]
    },
    {
     "data": {
      "text/plain": [
       "array([ 2,  6, 10, 14])"
      ]
     },
     "execution_count": 106,
     "metadata": {},
     "output_type": "execute_result"
    }
   ],
   "source": [
    "N=4\n",
    "grid=np.arange(N*N).reshape(N, N)\n",
    "print(grid)\n",
    "grid[:, 0]  # select column\n",
    "grid[:, 1]\n",
    "grid[:, 2]"
   ]
  },
  {
   "cell_type": "markdown",
   "id": "e2c831fa",
   "metadata": {},
   "source": [
    "#### Sum vertical for each column (vertical one-hot)"
   ]
  },
  {
   "cell_type": "code",
   "execution_count": 96,
   "id": "7732667b",
   "metadata": {},
   "outputs": [],
   "source": [
    "def build_column_penalty(N):\n",
    "    qubo=QuboPoly(N*N)\n",
    "    for col in range(N):\n",
    "        tmp=QuboPoly(N*N)\n",
    "        for i in grid[:, col]:\n",
    "            tmp.add_term(i, i, 1)\n",
    "        tmp.add_constant(-1)\n",
    "        tmp.power()\n",
    "        qubo.sum(tmp)\n",
    "    return qubo"
   ]
  },
  {
   "cell_type": "markdown",
   "id": "0abd5f49",
   "metadata": {},
   "source": [
    "#### Sum horizontal for each row (horizontal one-hot)"
   ]
  },
  {
   "cell_type": "code",
   "execution_count": 97,
   "id": "0f67bf3f",
   "metadata": {},
   "outputs": [],
   "source": [
    "def build_row_penalty(N):\n",
    "    qubo=QuboPoly(N*N)\n",
    "    for row in range(N):\n",
    "        tmp=QuboPoly(N*N)\n",
    "        for i in grid[row]:\n",
    "            tmp.add_term(i, i, 1)\n",
    "        tmp.add_constant(-1)\n",
    "        tmp.power()\n",
    "        qubo.sum(tmp)\n",
    "    return qubo"
   ]
  },
  {
   "cell_type": "markdown",
   "id": "4480a0d9",
   "metadata": {},
   "source": [
    "#### Sum diagonal for each diagonal"
   ]
  },
  {
   "cell_type": "code",
   "execution_count": 98,
   "id": "24c51728",
   "metadata": {},
   "outputs": [
    {
     "data": {
      "text/plain": [
       "array([ 8, 17, 26, 35, 44, 53, 62])"
      ]
     },
     "execution_count": 98,
     "metadata": {},
     "output_type": "execute_result"
    }
   ],
   "source": [
    "np.diag(grid, k=-1)"
   ]
  },
  {
   "cell_type": "code",
   "execution_count": 99,
   "id": "393990be",
   "metadata": {},
   "outputs": [
    {
     "data": {
      "text/plain": [
       "array([[ 7,  6,  5,  4,  3,  2,  1,  0],\n",
       "       [15, 14, 13, 12, 11, 10,  9,  8],\n",
       "       [23, 22, 21, 20, 19, 18, 17, 16],\n",
       "       [31, 30, 29, 28, 27, 26, 25, 24],\n",
       "       [39, 38, 37, 36, 35, 34, 33, 32],\n",
       "       [47, 46, 45, 44, 43, 42, 41, 40],\n",
       "       [55, 54, 53, 52, 51, 50, 49, 48],\n",
       "       [63, 62, 61, 60, 59, 58, 57, 56]])"
      ]
     },
     "execution_count": 99,
     "metadata": {},
     "output_type": "execute_result"
    }
   ],
   "source": [
    "np.fliplr(grid)"
   ]
  },
  {
   "cell_type": "code",
   "execution_count": 100,
   "id": "fddb54ae",
   "metadata": {},
   "outputs": [],
   "source": [
    "def build_diag_penalty(N):\n",
    "    qubo=QuboPoly(N*N)\n",
    "    for g in [grid, np.fliplr(grid)]:\n",
    "        for k in range(-N+2, N-1):\n",
    "            tmp1=QuboPoly(N*N)\n",
    "            tmp2=QuboPoly(N*N)\n",
    "            for dia in np.diag(g, k=k):\n",
    "                tmp1.add_term(dia, dia, 1)\n",
    "                tmp2.add_term(dia, dia, 1)\n",
    "            tmp1.add_constant(-1)\n",
    "            tmp1.multiply(tmp2)\n",
    "            qubo.sum(tmp1)\n",
    "    return qubo"
   ]
  },
  {
   "cell_type": "markdown",
   "id": "92484f0d",
   "metadata": {},
   "source": [
    "#### build QUBO matrix"
   ]
  },
  {
   "cell_type": "code",
   "execution_count": 135,
   "id": "7789377e",
   "metadata": {},
   "outputs": [],
   "source": [
    "N=8\n",
    "grid=np.arange(N*N).reshape(N, N)\n",
    "\n",
    "P1=build_column_penalty(N)\n",
    "P2=build_row_penalty(N)\n",
    "P3=build_diag_penalty(N)\n",
    "\n",
    "qubo_obj=QuboPoly(N*N)\n",
    "qubo_obj.sum(P1)\n",
    "qubo_obj.sum(P2)\n",
    "qubo_obj.sum(P3)\n",
    "\n",
    "#print(qubo_obj.array)\n",
    "#print(qubo_obj.constant)"
   ]
  },
  {
   "cell_type": "code",
   "execution_count": 136,
   "id": "6b05910d",
   "metadata": {},
   "outputs": [],
   "source": [
    "m=gp.Model()\n",
    "\n",
    "x=m.addMVar(N*N, vtype=GRB.BINARY)\n",
    "\n",
    "m.setObjective(x@qubo_obj.array@x + qubo_obj.constant, GRB.MINIMIZE)\n",
    "m.write('debug.lp')"
   ]
  },
  {
   "cell_type": "code",
   "execution_count": 137,
   "id": "5693413b",
   "metadata": {},
   "outputs": [
    {
     "name": "stdout",
     "output_type": "stream",
     "text": [
      "Gurobi Optimizer version 10.0.1 build v10.0.1rc0 (linux64)\n",
      "\n",
      "CPU model: Intel(R) Core(TM) i5-7200U CPU @ 2.50GHz, instruction set [SSE2|AVX|AVX2]\n",
      "Thread count: 2 physical cores, 4 logical processors, using up to 4 threads\n",
      "\n",
      "Optimize a model with 0 rows, 64 columns and 0 nonzeros\n",
      "Model fingerprint: 0x7700af9d\n",
      "Model has 792 quadratic objective terms\n",
      "Variable types: 0 continuous, 64 integer (64 binary)\n",
      "Coefficient statistics:\n",
      "  Matrix range     [0e+00, 0e+00]\n",
      "  Objective range  [0e+00, 0e+00]\n",
      "  QObjective range [4e+00, 4e+00]\n",
      "  Bounds range     [1e+00, 1e+00]\n",
      "  RHS range        [0e+00, 0e+00]\n",
      "Found heuristic solution: objective 16.0000000\n",
      "Found heuristic solution: objective 4.0000000\n",
      "Found heuristic solution: objective 2.0000000\n",
      "Presolve time: 0.02s\n",
      "Presolved: 728 rows, 792 columns, 2184 nonzeros\n",
      "Variable types: 0 continuous, 792 integer (792 binary)\n",
      "\n",
      "Root relaxation: objective -4.800000e+01, 66 iterations, 0.00 seconds (0.00 work units)\n",
      "\n",
      "    Nodes    |    Current Node    |     Objective Bounds      |     Work\n",
      " Expl Unexpl |  Obj  Depth IntInf | Incumbent    BestBd   Gap | It/Node Time\n",
      "\n",
      "     0     0  -48.00000    0   64    2.00000  -48.00000  2500%     -    0s\n",
      "     0     0    0.00000    0   12    2.00000    0.00000   100%     -    0s\n",
      "H    0     0                       0.0000000    0.00000  0.00%     -    0s\n",
      "     0     0    0.00000    0   12    0.00000    0.00000  0.00%     -    0s\n",
      "\n",
      "Cutting planes:\n",
      "  MIR: 47\n",
      "  Zero half: 4\n",
      "  RLT: 35\n",
      "  BQP: 131\n",
      "\n",
      "Explored 1 nodes (245 simplex iterations) in 0.60 seconds (0.18 work units)\n",
      "Thread count was 4 (of 4 available processors)\n",
      "\n",
      "Solution count 4: 0 2 4 16 \n",
      "\n",
      "Optimal solution found (tolerance 1.00e-04)\n",
      "Best objective 0.000000000000e+00, best bound 0.000000000000e+00, gap 0.0000%\n"
     ]
    }
   ],
   "source": [
    "m.optimize()\n",
    "m.write('result.sol')"
   ]
  },
  {
   "cell_type": "code",
   "execution_count": 138,
   "id": "065bbfe9",
   "metadata": {},
   "outputs": [
    {
     "name": "stdout",
     "output_type": "stream",
     "text": [
      "[0 0 0 1 0 0 0 0 0 0 0 0 0 1 0 0 0 0 0 0 0 0 0 1 0 0 1 0 0 0 0 0 1 0 0 0 0\n",
      " 0 0 0 0 0 0 0 0 0 1 0 0 0 0 0 1 0 0 0 0 1 0 0 0 0 0 0]\n"
     ]
    }
   ],
   "source": [
    "solution=np.zeros(N*N, dtype=int)\n",
    "for index, var in enumerate(m.getVars()):\n",
    "    solution[index]=int(var.x)\n",
    "    \n",
    "print(solution)"
   ]
  },
  {
   "cell_type": "code",
   "execution_count": 139,
   "id": "7616871b",
   "metadata": {},
   "outputs": [
    {
     "name": "stdout",
     "output_type": "stream",
     "text": [
      "[[0 0 0 1 0 0 0 0]\n",
      " [0 0 0 0 0 1 0 0]\n",
      " [0 0 0 0 0 0 0 1]\n",
      " [0 0 1 0 0 0 0 0]\n",
      " [1 0 0 0 0 0 0 0]\n",
      " [0 0 0 0 0 0 1 0]\n",
      " [0 0 0 0 1 0 0 0]\n",
      " [0 1 0 0 0 0 0 0]]\n"
     ]
    }
   ],
   "source": [
    "grid_sol=solution.reshape(N, N)\n",
    "print(grid_sol)"
   ]
  }
 ],
 "metadata": {
  "kernelspec": {
   "display_name": "Python 3 (ipykernel)",
   "language": "python",
   "name": "python3"
  },
  "language_info": {
   "codemirror_mode": {
    "name": "ipython",
    "version": 3
   },
   "file_extension": ".py",
   "mimetype": "text/x-python",
   "name": "python",
   "nbconvert_exporter": "python",
   "pygments_lexer": "ipython3",
   "version": "3.10.6"
  }
 },
 "nbformat": 4,
 "nbformat_minor": 5
}
