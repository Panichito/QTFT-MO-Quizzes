{
 "cells": [
  {
   "cell_type": "markdown",
   "id": "19819b62",
   "metadata": {},
   "source": [
    "# Wiring the lightbulbs\n",
    "\n",
    "You are tasked with wiring lightbulbs in a large warehouse. The location of the lightbulbs are listed below (in the (x,y) coordinates in meters). What is the minimum length of wire we need to make sure that all the bulbs are somehow connected to the breaker which is located at the (0,0).\n",
    "\n",
    "Do not think too much about the circuit (or the return wire). We need to just connect the bulbs similar to the picture below. Assume that you need only a single wire running.\n",
    "\n",
    "![Image of subgraph](https://upload.wikimedia.org/wikipedia/commons/thumb/d/d2/Minimum_spanning_tree.svg/600px-Minimum_spanning_tree.svg.png)\n",
    "\n",
    "\n",
    "\n",
    "\n",
    "\n",
    "\n",
    "\n",
    "\n",
    "\n",
    "\n",
    "\n"
   ]
  },
  {
   "cell_type": "code",
   "execution_count": 362,
   "id": "71a44896",
   "metadata": {},
   "outputs": [
    {
     "data": {
      "text/plain": [
       "[(0.0, 0.0),\n",
       " (1.2, 1.2),\n",
       " (3.0, 4.0),\n",
       " (5.0, 4.5),\n",
       " (4.0, 5.0),\n",
       " (0.5, 0.1),\n",
       " (0.3, 5.0),\n",
       " (5.0, 5.0),\n",
       " (2.0, 3.7),\n",
       " (0.5, 3.0),\n",
       " (1.0, 3.0)]"
      ]
     },
     "execution_count": 362,
     "metadata": {},
     "output_type": "execute_result"
    }
   ],
   "source": [
    "## location in (x,y)\n",
    "\n",
    "light_bulb_locations = [(1.2,1.2),\n",
    "                       (3.0,4.0),\n",
    "                       (5.0,4.5),\n",
    "                       (4.0,5.0),\n",
    "                       (0.5,0.1),\n",
    "                       (0.3,5.0),\n",
    "                       (5.0,5.0),\n",
    "                       (2.0,3.7),\n",
    "                       (0.5,3.0),\n",
    "                       (1.0,3.0)]\n",
    "\n",
    "# add breaker location (0, 0)\n",
    "light_bulb_locations=[(0.0, 0.0)]+light_bulb_locations\n",
    "light_bulb_locations"
   ]
  },
  {
   "cell_type": "code",
   "execution_count": 363,
   "id": "79a6a368",
   "metadata": {},
   "outputs": [],
   "source": [
    "import numpy as np\n",
    "import pandas as pd\n",
    "from scipy.spatial import distance_matrix\n",
    "import matplotlib.pyplot as plt\n",
    "import pulp\n",
    "from pulp import LpProblem, LpMinimize, LpVariable, lpSum, LpStatus, value\n",
    "import networkx as nx"
   ]
  },
  {
   "cell_type": "code",
   "execution_count": 364,
   "id": "d944a54d",
   "metadata": {},
   "outputs": [
    {
     "data": {
      "image/png": "[encoded data removed]",
      "text/plain": [
       "<Figure size 360x360 with 1 Axes>"
      ]
     },
     "metadata": {
      "needs_background": "light"
     },
     "output_type": "display_data"
    }
   ],
   "source": [
    "### useful code for plotting bulbs locations\n",
    "\n",
    "plt.figure(figsize=(5, 5))\n",
    "\n",
    "# draw problem state\n",
    "for i, value in enumerate(light_bulb_locations):\n",
    "    plt.scatter(value[0], value[1], c='black')\n",
    "    plt.text(value[0]+0.1, value[1]+0.1, f'{i}')\n",
    "        \n",
    "plt.xlim([-1, 6])\n",
    "plt.ylim([-1, 6])\n",
    "\n",
    "### might be useful for drawing lines connecting dots\n",
    "\n",
    "#plt.annotate('', xy=[light_bulb_locations[j][0], light_bulb_locations[j][1]], xytext=[light_bulb_locations[i][0], light_bulb_locations[i][1]], arrowprops=arrowprops)\n",
    "\n",
    "plt.show()"
   ]
  },
  {
   "cell_type": "code",
   "execution_count": 365,
   "id": "8ce719d9",
   "metadata": {},
   "outputs": [
    {
     "data": {
      "text/plain": [
       "0.5099019513592785"
      ]
     },
     "execution_count": 365,
     "metadata": {},
     "output_type": "execute_result"
    }
   ],
   "source": [
    "d=distance_matrix(light_bulb_locations, light_bulb_locations, p=2)  # euclidean distance\n",
    "d[0][5]"
   ]
  },
  {
   "cell_type": "code",
   "execution_count": 395,
   "id": "0701b991",
   "metadata": {},
   "outputs": [],
   "source": [
    "model=LpProblem(name='mst', sense=LpMinimize)"
   ]
  },
  {
   "cell_type": "code",
   "execution_count": 396,
   "id": "16456ea6",
   "metadata": {},
   "outputs": [],
   "source": [
    "x=LpVariable.dicts('x', ((i, j) for i in range(len(light_bulb_locations)) for j in range(len(light_bulb_locations)) if i!=j), cat='Binary')"
   ]
  },
  {
   "cell_type": "code",
   "execution_count": 397,
   "id": "837728bf",
   "metadata": {},
   "outputs": [],
   "source": [
    "# constraint\n",
    "for i in range(len(light_bulb_locations)):\n",
    "    # each node has at least 1 connected to other\n",
    "    model+=lpSum(x[i, j]+x[j, i] for j in range(len(light_bulb_locations)) if i!=j) >= 1\n",
    "    \n",
    "for i in range(len(light_bulb_locations)):\n",
    "    for j in range(len(light_bulb_locations)):\n",
    "        if i!=j:\n",
    "            model+=(x[i, j]+x[j, i] <= 1)  # undirected graph, select only 1 way a->b or b->a\n",
    "\n",
    "# number of edges in MST = number of nodes - 1\n",
    "model+=lpSum(x[i, j] for i in range(len(light_bulb_locations)) for j in range(len(light_bulb_locations)) if i!=j) == len(light_bulb_locations)-1"
   ]
  },
  {
   "cell_type": "code",
   "execution_count": 398,
   "id": "37955769",
   "metadata": {},
   "outputs": [],
   "source": [
    "# objective function\n",
    "model+=lpSum(x[i, j]*d[i][j] for i in range(len(light_bulb_locations)) for j in range(len(light_bulb_locations)) if i!=j)"
   ]
  },
  {
   "cell_type": "code",
   "execution_count": 399,
   "id": "8130734d",
   "metadata": {},
   "outputs": [
    {
     "name": "stdout",
     "output_type": "stream",
     "text": [
      "Welcome to the CBC MILP Solver \n",
      "Version: 2.10.3 \n",
      "Build Date: Dec 15 2019 \n",
      "\n",
      "command line - /home/panithi/.local/lib/python3.10/site-packages/pulp/solverdir/cbc/linux/64/cbc /tmp/1e010014bf9840bba2282a7b3c84a4f2-pulp.mps timeMode elapsed branch printingOptions all solution /tmp/1e010014bf9840bba2282a7b3c84a4f2-pulp.sol (default strategy 1)\n",
      "At line 2 NAME          MODEL\n",
      "At line 3 ROWS\n",
      "At line 127 COLUMNS\n",
      "At line 1008 RHS\n",
      "At line 1131 BOUNDS\n",
      "At line 1242 ENDATA\n",
      "Problem MODEL has 122 rows, 110 columns and 550 elements\n",
      "Coin0008I MODEL read with 0 errors\n",
      "Option for timeMode changed from cpu to elapsed\n",
      "Continuous objective value is 10.6207 - 0.00 seconds\n",
      "Cgl0004I processed model has 12 rows, 55 columns (55 integer (55 of which binary)) and 165 elements\n",
      "Cbc0038I Initial state - 0 integers unsatisfied sum - 0\n",
      "Cbc0038I Solution found of 10.6207\n",
      "Cbc0038I Before mini branch and bound, 55 integers at bound fixed and 0 continuous\n",
      "Cbc0038I Mini branch and bound did not improve solution (0.00 seconds)\n",
      "Cbc0038I After 0.00 seconds - Feasibility pump exiting with objective of 10.6207 - took 0.00 seconds\n",
      "Cbc0012I Integer solution of 10.620651 found by feasibility pump after 0 iterations and 0 nodes (0.00 seconds)\n",
      "Cbc0001I Search completed - best objective 10.6206513202113, took 0 iterations and 0 nodes (0.00 seconds)\n",
      "Cbc0035I Maximum depth 0, 0 variables fixed on reduced cost\n",
      "Cuts at root node changed objective from 10.6207 to 10.6207\n",
      "Probing was tried 0 times and created 0 cuts of which 0 were active after adding rounds of cuts (0.000 seconds)\n",
      "Gomory was tried 0 times and created 0 cuts of which 0 were active after adding rounds of cuts (0.000 seconds)\n",
      "Knapsack was tried 0 times and created 0 cuts of which 0 were active after adding rounds of cuts (0.000 seconds)\n",
      "Clique was tried 0 times and created 0 cuts of which 0 were active after adding rounds of cuts (0.000 seconds)\n",
      "MixedIntegerRounding2 was tried 0 times and created 0 cuts of which 0 were active after adding rounds of cuts (0.000 seconds)\n",
      "FlowCover was tried 0 times and created 0 cuts of which 0 were active after adding rounds of cuts (0.000 seconds)\n",
      "TwoMirCuts was tried 0 times and created 0 cuts of which 0 were active after adding rounds of cuts (0.000 seconds)\n",
      "ZeroHalf was tried 0 times and created 0 cuts of which 0 were active after adding rounds of cuts (0.000 seconds)\n",
      "\n",
      "Result - Optimal solution found\n",
      "\n",
      "Objective value:                10.62065132\n",
      "Enumerated nodes:               0\n",
      "Total iterations:               0\n",
      "Time (CPU seconds):             0.00\n",
      "Time (Wallclock seconds):       0.00\n",
      "\n",
      "Option for printingOptions changed from normal to all\n",
      "Total time (CPU seconds):       0.01   (Wallclock seconds):       0.01\n",
      "\n"
     ]
    },
    {
     "data": {
      "text/plain": [
       "'Optimal'"
      ]
     },
     "execution_count": 399,
     "metadata": {},
     "output_type": "execute_result"
    }
   ],
   "source": [
    "model.solve()\n",
    "LpStatus[model.status]"
   ]
  },
  {
   "cell_type": "code",
   "execution_count": 400,
   "id": "17f99fe7",
   "metadata": {},
   "outputs": [
    {
     "name": "stdout",
     "output_type": "stream",
     "text": [
      "10.620651320211401\n"
     ]
    }
   ],
   "source": [
    "print(model.objective.value())"
   ]
  },
  {
   "cell_type": "code",
   "execution_count": 401,
   "id": "a5c0b32a",
   "metadata": {},
   "outputs": [
    {
     "name": "stdout",
     "output_type": "stream",
     "text": [
      "x_(1,_5) 1.0\n",
      "x_(10,_8) 1.0\n",
      "x_(10,_9) 1.0\n",
      "x_(2,_4) 1.0\n",
      "x_(2,_8) 1.0\n",
      "x_(3,_4) 1.0\n",
      "x_(5,_0) 1.0\n",
      "x_(7,_3) 1.0\n",
      "x_(7,_4) 1.0\n",
      "x_(9,_6) 1.0\n"
     ]
    }
   ],
   "source": [
    "from ast import literal_eval as make_tuple\n",
    "\n",
    "wiring=[]\n",
    "for var in model.variables():\n",
    "    if var.name[0] == 'x' and var.value() == 1:\n",
    "        print(var.name, var.value())\n",
    "        a=var.name.replace('_', '')\n",
    "        wiring.append(make_tuple(a[1:]))\n",
    "    elif var.name[0] == 'u':\n",
    "        print(var.name, var.value())\n",
    "        \n",
    "#wiring"
   ]
  },
  {
   "cell_type": "code",
   "execution_count": 402,
   "id": "6814446b",
   "metadata": {},
   "outputs": [
    {
     "data": {
      "image/png": "[encoded data removed]",
      "text/plain": [
       "<Figure size 360x360 with 1 Axes>"
      ]
     },
     "metadata": {
      "needs_background": "light"
     },
     "output_type": "display_data"
    }
   ],
   "source": [
    "plt.figure(figsize=(5, 5))\n",
    "\n",
    "# draw problem state\n",
    "for i, value in enumerate(light_bulb_locations):\n",
    "    if value[0]==0 and value[1]==0:\n",
    "        plt.scatter(value[0], value[1], c='red')\n",
    "    else:\n",
    "        plt.scatter(value[0], value[1], c='black')\n",
    "    plt.text(value[0]+0.1, value[1]+0.1, f'{i}')\n",
    "        \n",
    "plt.xlim([-1, 6])\n",
    "plt.ylim([-1, 6])\n",
    "\n",
    "### might be useful for drawing lines connecting dots\n",
    "\n",
    "arrowprops=dict(arrowstyle='->')\n",
    "for i, j in wiring:\n",
    "    plt.annotate('', xy=[light_bulb_locations[j][0], light_bulb_locations[j][1]], xytext=[light_bulb_locations[i][0], light_bulb_locations[i][1]], arrowprops=arrowprops)\n",
    "\n",
    "plt.show()"
   ]
  },
  {
   "cell_type": "code",
   "execution_count": 403,
   "id": "3a4c87c7",
   "metadata": {},
   "outputs": [
    {
     "name": "stdout",
     "output_type": "stream",
     "text": [
      "has subgraph\n",
      "Welcome to the CBC MILP Solver \n",
      "Version: 2.10.3 \n",
      "Build Date: Dec 15 2019 \n",
      "\n",
      "command line - /home/panithi/.local/lib/python3.10/site-packages/pulp/solverdir/cbc/linux/64/cbc /tmp/df501ba3117e4711a1b84e08d2069b30-pulp.mps timeMode elapsed branch printingOptions all solution /tmp/df501ba3117e4711a1b84e08d2069b30-pulp.sol (default strategy 1)\n",
      "At line 2 NAME          MODEL\n",
      "At line 3 ROWS\n",
      "At line 129 COLUMNS\n",
      "At line 1072 RHS\n",
      "At line 1197 BOUNDS\n",
      "At line 1308 ENDATA\n",
      "Problem MODEL has 124 rows, 110 columns and 612 elements\n",
      "Coin0008I MODEL read with 0 errors\n",
      "Option for timeMode changed from cpu to elapsed\n",
      "Continuous objective value is 11.0175 - 0.00 seconds\n",
      "Cgl0004I processed model has 14 rows, 55 columns (55 integer (55 of which binary)) and 196 elements\n",
      "Cbc0038I Initial state - 0 integers unsatisfied sum - 0\n",
      "Cbc0038I Solution found of 11.0175\n",
      "Cbc0038I Before mini branch and bound, 55 integers at bound fixed and 0 continuous\n",
      "Cbc0038I Mini branch and bound did not improve solution (0.00 seconds)\n",
      "Cbc0038I After 0.00 seconds - Feasibility pump exiting with objective of 11.0175 - took 0.00 seconds\n",
      "Cbc0012I Integer solution of 11.017515 found by feasibility pump after 0 iterations and 0 nodes (0.00 seconds)\n",
      "Cbc0001I Search completed - best objective 11.0175147854653, took 0 iterations and 0 nodes (0.00 seconds)\n",
      "Cbc0035I Maximum depth 0, 0 variables fixed on reduced cost\n",
      "Cuts at root node changed objective from 11.0175 to 11.0175\n",
      "Probing was tried 0 times and created 0 cuts of which 0 were active after adding rounds of cuts (0.000 seconds)\n",
      "Gomory was tried 0 times and created 0 cuts of which 0 were active after adding rounds of cuts (0.000 seconds)\n",
      "Knapsack was tried 0 times and created 0 cuts of which 0 were active after adding rounds of cuts (0.000 seconds)\n",
      "Clique was tried 0 times and created 0 cuts of which 0 were active after adding rounds of cuts (0.000 seconds)\n",
      "MixedIntegerRounding2 was tried 0 times and created 0 cuts of which 0 were active after adding rounds of cuts (0.000 seconds)\n",
      "FlowCover was tried 0 times and created 0 cuts of which 0 were active after adding rounds of cuts (0.000 seconds)\n",
      "TwoMirCuts was tried 0 times and created 0 cuts of which 0 were active after adding rounds of cuts (0.000 seconds)\n",
      "ZeroHalf was tried 0 times and created 0 cuts of which 0 were active after adding rounds of cuts (0.000 seconds)\n",
      "\n",
      "Result - Optimal solution found\n",
      "\n",
      "Objective value:                11.01751479\n",
      "Enumerated nodes:               0\n",
      "Total iterations:               0\n",
      "Time (CPU seconds):             0.00\n",
      "Time (Wallclock seconds):       0.00\n",
      "\n",
      "Option for printingOptions changed from normal to all\n",
      "Total time (CPU seconds):       0.01   (Wallclock seconds):       0.01\n",
      "\n",
      "x_(1,_5) 1.0\n",
      "x_(10,_1) 1.0\n",
      "x_(10,_8) 1.0\n",
      "x_(3,_4) 1.0\n",
      "x_(4,_7) 1.0\n",
      "x_(5,_0) 1.0\n",
      "x_(6,_9) 1.0\n",
      "x_(7,_3) 1.0\n",
      "x_(8,_2) 1.0\n",
      "x_(9,_10) 1.0\n",
      "has subgraph\n",
      "Welcome to the CBC MILP Solver \n",
      "Version: 2.10.3 \n",
      "Build Date: Dec 15 2019 \n",
      "\n",
      "command line - /home/panithi/.local/lib/python3.10/site-packages/pulp/solverdir/cbc/linux/64/cbc /tmp/2053f42590eb44398f94c21078eb7299-pulp.mps timeMode elapsed branch printingOptions all solution /tmp/2053f42590eb44398f94c21078eb7299-pulp.sol (default strategy 1)\n",
      "At line 2 NAME          MODEL\n",
      "At line 3 ROWS\n",
      "At line 131 COLUMNS\n",
      "At line 1136 RHS\n",
      "At line 1263 BOUNDS\n",
      "At line 1374 ENDATA\n",
      "Problem MODEL has 126 rows, 110 columns and 674 elements\n",
      "Coin0008I MODEL read with 0 errors\n",
      "Option for timeMode changed from cpu to elapsed\n",
      "Continuous objective value is 11.3137 - 0.00 seconds\n",
      "Cgl0004I processed model has 16 rows, 55 columns (55 integer (55 of which binary)) and 227 elements\n",
      "Cbc0038I Initial state - 0 integers unsatisfied sum - 0\n",
      "Cbc0038I Solution found of 11.3137\n",
      "Cbc0038I Before mini branch and bound, 55 integers at bound fixed and 0 continuous\n",
      "Cbc0038I Mini branch and bound did not improve solution (0.00 seconds)\n",
      "Cbc0038I After 0.00 seconds - Feasibility pump exiting with objective of 11.3137 - took 0.00 seconds\n",
      "Cbc0012I Integer solution of 11.313694 found by feasibility pump after 0 iterations and 0 nodes (0.00 seconds)\n",
      "Cbc0001I Search completed - best objective 11.3136943590883, took 0 iterations and 0 nodes (0.00 seconds)\n",
      "Cbc0035I Maximum depth 0, 0 variables fixed on reduced cost\n",
      "Cuts at root node changed objective from 11.3137 to 11.3137\n",
      "Probing was tried 0 times and created 0 cuts of which 0 were active after adding rounds of cuts (0.000 seconds)\n",
      "Gomory was tried 0 times and created 0 cuts of which 0 were active after adding rounds of cuts (0.000 seconds)\n",
      "Knapsack was tried 0 times and created 0 cuts of which 0 were active after adding rounds of cuts (0.000 seconds)\n",
      "Clique was tried 0 times and created 0 cuts of which 0 were active after adding rounds of cuts (0.000 seconds)\n",
      "MixedIntegerRounding2 was tried 0 times and created 0 cuts of which 0 were active after adding rounds of cuts (0.000 seconds)\n",
      "FlowCover was tried 0 times and created 0 cuts of which 0 were active after adding rounds of cuts (0.000 seconds)\n",
      "TwoMirCuts was tried 0 times and created 0 cuts of which 0 were active after adding rounds of cuts (0.000 seconds)\n",
      "ZeroHalf was tried 0 times and created 0 cuts of which 0 were active after adding rounds of cuts (0.000 seconds)\n",
      "\n",
      "Result - Optimal solution found\n",
      "\n",
      "Objective value:                11.31369436\n",
      "Enumerated nodes:               0\n",
      "Total iterations:               0\n",
      "Time (CPU seconds):             0.00\n",
      "Time (Wallclock seconds):       0.00\n",
      "\n",
      "Option for printingOptions changed from normal to all\n",
      "Total time (CPU seconds):       0.00   (Wallclock seconds):       0.00\n",
      "\n",
      "x_(1,_5) 1.0\n",
      "x_(10,_1) 1.0\n",
      "x_(10,_8) 1.0\n",
      "x_(2,_4) 1.0\n",
      "x_(3,_7) 1.0\n",
      "x_(4,_7) 1.0\n",
      "x_(5,_0) 1.0\n",
      "x_(6,_9) 1.0\n",
      "x_(8,_2) 1.0\n",
      "x_(9,_10) 1.0\n",
      "no subgraph\n",
      "11.313694359088991\n"
     ]
    },
    {
     "data": {
      "image/png": "[encoded data removed]",
      "text/plain": [
       "<Figure size 432x288 with 1 Axes>"
      ]
     },
     "metadata": {},
     "output_type": "display_data"
    }
   ],
   "source": [
    "G=nx.Graph()\n",
    "G.add_nodes_from(range(len(light_bulb_locations)))\n",
    "for e in wiring:\n",
    "    G.add_edge(e[0], e[1])\n",
    "# eliminate subtours\n",
    "while nx.number_connected_components(G) > 1:\n",
    "    print('has subgraph')\n",
    "\n",
    "    components=nx.connected_components(G)\n",
    "    for c in components:\n",
    "        #print(c)\n",
    "        model+=lpSum(x[i, j] for i in c for j in c if i!=j) <= len(c)-1\n",
    "        \n",
    "    model.solve()\n",
    "    wiring.clear()\n",
    "    for var in model.variables():\n",
    "        if var.name[0] == 'x' and var.value() == 1:\n",
    "            print(var.name, var.value())\n",
    "            a=var.name.replace('_', '')\n",
    "            wiring.append(make_tuple(a[1:]))\n",
    "        elif var.name[0] == 'u':\n",
    "            print(var.name, var.value())\n",
    "    G=nx.Graph()\n",
    "    G.add_nodes_from(range(len(light_bulb_locations)))\n",
    "    for e in wiring:\n",
    "        G.add_edge(e[0], e[1])\n",
    "            \n",
    "print('no subgraph')\n",
    "nx.draw(G)\n",
    "print(model.objective.value())"
   ]
  },
  {
   "cell_type": "markdown",
   "id": "a36d31ca",
   "metadata": {},
   "source": [
    "#### Repeat the previous question. However, in this case there is another breaker that we can also use located at (6.0,5.0). What would be the minimum total length of the wire that we need?"
   ]
  },
  {
   "cell_type": "code",
   "execution_count": 404,
   "id": "3808a18f",
   "metadata": {},
   "outputs": [
    {
     "data": {
      "text/plain": [
       "[(0.0, 0.0),\n",
       " (1.2, 1.2),\n",
       " (3.0, 4.0),\n",
       " (5.0, 4.5),\n",
       " (4.0, 5.0),\n",
       " (0.5, 0.1),\n",
       " (0.3, 5.0),\n",
       " (5.0, 5.0),\n",
       " (2.0, 3.7),\n",
       " (0.5, 3.0),\n",
       " (1.0, 3.0),\n",
       " (6.0, 5.0)]"
      ]
     },
     "execution_count": 404,
     "metadata": {},
     "output_type": "execute_result"
    }
   ],
   "source": [
    "light_bulb_locations=light_bulb_locations+[(6.0, 5.0)]\n",
    "light_bulb_locations"
   ]
  },
  {
   "cell_type": "code",
   "execution_count": 405,
   "id": "991700ee",
   "metadata": {},
   "outputs": [
    {
     "data": {
      "image/png": "[encoded data removed]",
      "text/plain": [
       "<Figure size 360x360 with 1 Axes>"
      ]
     },
     "metadata": {
      "needs_background": "light"
     },
     "output_type": "display_data"
    }
   ],
   "source": [
    "plt.figure(figsize=(5, 5))\n",
    "\n",
    "for i, value in enumerate(light_bulb_locations):\n",
    "    if (value[0]==0 and value[1]==0) or (value[0]==6 and value[1]==5):\n",
    "        plt.scatter(value[0], value[1], c='red')\n",
    "    else:\n",
    "        plt.scatter(value[0], value[1], c='black')\n",
    "    plt.text(value[0]+0.1, value[1]+0.1, f'{i}')\n",
    "        \n",
    "plt.xlim([-1, 7])\n",
    "plt.ylim([-1, 7])\n",
    "\n",
    "plt.show()"
   ]
  },
  {
   "cell_type": "code",
   "execution_count": 406,
   "id": "9c70dcb6",
   "metadata": {},
   "outputs": [
    {
     "name": "stdout",
     "output_type": "stream",
     "text": [
      "Welcome to the CBC MILP Solver \n",
      "Version: 2.10.3 \n",
      "Build Date: Dec 15 2019 \n",
      "\n",
      "command line - /home/panithi/.local/lib/python3.10/site-packages/pulp/solverdir/cbc/linux/64/cbc /tmp/3501cf94c0cd498290958ec14140d8c0-pulp.mps timeMode elapsed branch printingOptions all solution /tmp/3501cf94c0cd498290958ec14140d8c0-pulp.sol (default strategy 1)\n",
      "At line 2 NAME          MODEL\n",
      "At line 3 ROWS\n",
      "At line 150 COLUMNS\n",
      "At line 1207 RHS\n",
      "At line 1353 BOUNDS\n",
      "At line 1486 ENDATA\n",
      "Problem MODEL has 145 rows, 132 columns and 660 elements\n",
      "Coin0008I MODEL read with 0 errors\n",
      "Option for timeMode changed from cpu to elapsed\n",
      "Continuous objective value is 11.3245 - 0.00 seconds\n",
      "Cgl0004I processed model has 13 rows, 66 columns (66 integer (66 of which binary)) and 198 elements\n",
      "Cbc0038I Initial state - 0 integers unsatisfied sum - 0\n",
      "Cbc0038I Solution found of 11.3245\n",
      "Cbc0038I Before mini branch and bound, 66 integers at bound fixed and 0 continuous\n",
      "Cbc0038I Mini branch and bound did not improve solution (0.00 seconds)\n",
      "Cbc0038I After 0.00 seconds - Feasibility pump exiting with objective of 11.3245 - took 0.00 seconds\n",
      "Cbc0012I Integer solution of 11.324472 found by feasibility pump after 0 iterations and 0 nodes (0.00 seconds)\n",
      "Cbc0001I Search completed - best objective 11.3244717465883, took 0 iterations and 0 nodes (0.00 seconds)\n",
      "Cbc0035I Maximum depth 0, 0 variables fixed on reduced cost\n",
      "Cuts at root node changed objective from 11.3245 to 11.3245\n",
      "Probing was tried 0 times and created 0 cuts of which 0 were active after adding rounds of cuts (0.000 seconds)\n",
      "Gomory was tried 0 times and created 0 cuts of which 0 were active after adding rounds of cuts (0.000 seconds)\n",
      "Knapsack was tried 0 times and created 0 cuts of which 0 were active after adding rounds of cuts (0.000 seconds)\n",
      "Clique was tried 0 times and created 0 cuts of which 0 were active after adding rounds of cuts (0.000 seconds)\n",
      "MixedIntegerRounding2 was tried 0 times and created 0 cuts of which 0 were active after adding rounds of cuts (0.000 seconds)\n",
      "FlowCover was tried 0 times and created 0 cuts of which 0 were active after adding rounds of cuts (0.000 seconds)\n",
      "TwoMirCuts was tried 0 times and created 0 cuts of which 0 were active after adding rounds of cuts (0.000 seconds)\n",
      "ZeroHalf was tried 0 times and created 0 cuts of which 0 were active after adding rounds of cuts (0.000 seconds)\n",
      "\n",
      "Result - Optimal solution found\n",
      "\n",
      "Objective value:                11.32447175\n",
      "Enumerated nodes:               0\n",
      "Total iterations:               0\n",
      "Time (CPU seconds):             0.00\n",
      "Time (Wallclock seconds):       0.00\n",
      "\n",
      "Option for printingOptions changed from normal to all\n",
      "Total time (CPU seconds):       0.00   (Wallclock seconds):       0.01\n",
      "\n",
      "Optimal\n",
      "x_(1,_5) 1.0\n",
      "x_(11,_3) 1.0\n",
      "x_(2,_8) 1.0\n",
      "x_(4,_3) 1.0\n",
      "x_(4,_7) 1.0\n",
      "x_(5,_0) 1.0\n",
      "x_(6,_9) 1.0\n",
      "x_(7,_11) 1.0\n",
      "x_(7,_3) 1.0\n",
      "x_(8,_10) 1.0\n",
      "x_(9,_10) 1.0\n"
     ]
    },
    {
     "data": {
      "image/png": "[encoded data removed]",
      "text/plain": [
       "<Figure size 360x360 with 1 Axes>"
      ]
     },
     "metadata": {
      "needs_background": "light"
     },
     "output_type": "display_data"
    }
   ],
   "source": [
    "d=distance_matrix(light_bulb_locations, light_bulb_locations, p=2)  # euclidean distance\n",
    "model=LpProblem(name='mst_2', sense=LpMinimize)\n",
    "x=LpVariable.dicts('x', ((i, j) for i in range(len(light_bulb_locations)) for j in range(len(light_bulb_locations)) if i!=j), cat='Binary')\n",
    "# constraint\n",
    "for i in range(len(light_bulb_locations)):\n",
    "    model+=lpSum(x[i, j]+x[j, i] for j in range(len(light_bulb_locations)) if i!=j) >= 1\n",
    "for i in range(len(light_bulb_locations)):\n",
    "    for j in range(len(light_bulb_locations)):\n",
    "        if i!=j:\n",
    "            model+=(x[i, j]+x[j, i] <= 1)  # select only 1 way\n",
    "\n",
    "model+=lpSum(x[i, j] for i in range(len(light_bulb_locations)) for j in range(len(light_bulb_locations)) if i!=j) == len(light_bulb_locations)-1\n",
    "# objective function\n",
    "model+=lpSum(x[i, j]*d[i][j] for i in range(len(light_bulb_locations)) for j in range(len(light_bulb_locations)) if i!=j)\n",
    "model.solve()\n",
    "print(LpStatus[model.status])\n",
    "\n",
    "wiring=[]\n",
    "for var in model.variables():\n",
    "    if var.name[0] == 'x' and var.value() == 1:\n",
    "        print(var.name, var.value())\n",
    "        a=var.name.replace('_', '')\n",
    "        wiring.append(make_tuple(a[1:]))\n",
    "    elif var.name[0] == 'u':\n",
    "        print(var.name, var.value())\n",
    "    \n",
    "\n",
    "plt.figure(figsize=(5, 5))\n",
    "for i, value in enumerate(light_bulb_locations):\n",
    "    if (value[0]==0 and value[1]==0) or (value[0]==6 and value[1]==5):\n",
    "        plt.scatter(value[0], value[1], c='red')\n",
    "    else:\n",
    "        plt.scatter(value[0], value[1], c='black')\n",
    "    plt.text(value[0]+0.1, value[1]+0.1, f'{i}')\n",
    "        \n",
    "plt.xlim([-1, 7])\n",
    "plt.ylim([-1, 7])\n",
    "\n",
    "arrowprops=dict(arrowstyle='->')\n",
    "for i, j in wiring:\n",
    "    plt.annotate('', xy=[light_bulb_locations[j][0], light_bulb_locations[j][1]], xytext=[light_bulb_locations[i][0], light_bulb_locations[i][1]], arrowprops=arrowprops)\n",
    "\n",
    "plt.show()"
   ]
  },
  {
   "cell_type": "code",
   "execution_count": 407,
   "id": "63dc8ddf",
   "metadata": {},
   "outputs": [
    {
     "name": "stdout",
     "output_type": "stream",
     "text": [
      "has subgraph\n",
      "Welcome to the CBC MILP Solver \n",
      "Version: 2.10.3 \n",
      "Build Date: Dec 15 2019 \n",
      "\n",
      "command line - /home/panithi/.local/lib/python3.10/site-packages/pulp/solverdir/cbc/linux/64/cbc /tmp/324a428724b1437e84a69bf2e38a803d-pulp.mps timeMode elapsed branch printingOptions all solution /tmp/324a428724b1437e84a69bf2e38a803d-pulp.sol (default strategy 1)\n",
      "At line 2 NAME          MODEL\n",
      "At line 3 ROWS\n",
      "At line 153 COLUMNS\n",
      "At line 1248 RHS\n",
      "At line 1397 BOUNDS\n",
      "At line 1530 ENDATA\n",
      "Problem MODEL has 148 rows, 132 columns and 698 elements\n",
      "Coin0008I MODEL read with 0 errors\n",
      "Option for timeMode changed from cpu to elapsed\n",
      "Continuous objective value is 12.3137 - 0.00 seconds\n",
      "Cgl0004I processed model has 16 rows, 66 columns (66 integer (66 of which binary)) and 217 elements\n",
      "Cbc0038I Initial state - 0 integers unsatisfied sum - 0\n",
      "Cbc0038I Solution found of 12.3137\n",
      "Cbc0038I Before mini branch and bound, 66 integers at bound fixed and 0 continuous\n",
      "Cbc0038I Mini branch and bound did not improve solution (0.01 seconds)\n",
      "Cbc0038I After 0.01 seconds - Feasibility pump exiting with objective of 12.3137 - took 0.00 seconds\n",
      "Cbc0012I Integer solution of 12.313694 found by feasibility pump after 0 iterations and 0 nodes (0.01 seconds)\n",
      "Cbc0001I Search completed - best objective 12.3136943590883, took 0 iterations and 0 nodes (0.01 seconds)\n",
      "Cbc0035I Maximum depth 0, 0 variables fixed on reduced cost\n",
      "Cuts at root node changed objective from 12.3137 to 12.3137\n",
      "Probing was tried 0 times and created 0 cuts of which 0 were active after adding rounds of cuts (0.000 seconds)\n",
      "Gomory was tried 0 times and created 0 cuts of which 0 were active after adding rounds of cuts (0.000 seconds)\n",
      "Knapsack was tried 0 times and created 0 cuts of which 0 were active after adding rounds of cuts (0.000 seconds)\n",
      "Clique was tried 0 times and created 0 cuts of which 0 were active after adding rounds of cuts (0.000 seconds)\n",
      "MixedIntegerRounding2 was tried 0 times and created 0 cuts of which 0 were active after adding rounds of cuts (0.000 seconds)\n",
      "FlowCover was tried 0 times and created 0 cuts of which 0 were active after adding rounds of cuts (0.000 seconds)\n",
      "TwoMirCuts was tried 0 times and created 0 cuts of which 0 were active after adding rounds of cuts (0.000 seconds)\n",
      "ZeroHalf was tried 0 times and created 0 cuts of which 0 were active after adding rounds of cuts (0.000 seconds)\n",
      "\n",
      "Result - Optimal solution found\n",
      "\n",
      "Objective value:                12.31369436\n",
      "Enumerated nodes:               0\n",
      "Total iterations:               0\n",
      "Time (CPU seconds):             0.01\n",
      "Time (Wallclock seconds):       0.01\n",
      "\n",
      "Option for printingOptions changed from normal to all\n",
      "Total time (CPU seconds):       0.01   (Wallclock seconds):       0.01\n",
      "\n",
      "x_(0,_5) 1.0\n",
      "x_(1,_5) 1.0\n",
      "x_(10,_1) 1.0\n",
      "x_(11,_7) 1.0\n",
      "x_(2,_8) 1.0\n",
      "x_(4,_2) 1.0\n",
      "x_(6,_9) 1.0\n",
      "x_(7,_3) 1.0\n",
      "x_(7,_4) 1.0\n",
      "x_(8,_10) 1.0\n",
      "x_(9,_10) 1.0\n",
      "no subgraph\n",
      "12.31369435908899\n"
     ]
    },
    {
     "data": {
      "image/png": "[encoded data removed]",
      "text/plain": [
       "<Figure size 432x288 with 1 Axes>"
      ]
     },
     "metadata": {},
     "output_type": "display_data"
    }
   ],
   "source": [
    "G=nx.Graph()\n",
    "G.add_nodes_from(range(len(light_bulb_locations)))\n",
    "for e in wiring:\n",
    "    G.add_edge(e[0], e[1])\n",
    "# eliminate subtours\n",
    "while nx.number_connected_components(G) > 1:\n",
    "    print('has subgraph')\n",
    "\n",
    "    components=nx.connected_components(G)\n",
    "    for c in components:\n",
    "        #print(c)\n",
    "        model+=lpSum(x[i, j] for i in c for j in c if i!=j) <= len(c)-1\n",
    "        \n",
    "    model.solve()\n",
    "    wiring.clear()\n",
    "    for var in model.variables():\n",
    "        if var.name[0] == 'x' and var.value() == 1:\n",
    "            print(var.name, var.value())\n",
    "            a=var.name.replace('_', '')\n",
    "            wiring.append(make_tuple(a[1:]))\n",
    "        elif var.name[0] == 'u':\n",
    "            print(var.name, var.value())\n",
    "    G=nx.Graph()\n",
    "    G.add_nodes_from(range(len(light_bulb_locations)))\n",
    "    for e in wiring:\n",
    "        G.add_edge(e[0], e[1])\n",
    "            \n",
    "print('no subgraph')\n",
    "nx.draw(G)\n",
    "print(model.objective.value())"
   ]
  },
  {
   "cell_type": "code",
   "execution_count": 408,
   "id": "378b564a",
   "metadata": {},
   "outputs": [
    {
     "data": {
      "image/png": "[encoded data removed]",
      "text/plain": [
       "<Figure size 360x360 with 1 Axes>"
      ]
     },
     "metadata": {
      "needs_background": "light"
     },
     "output_type": "display_data"
    }
   ],
   "source": [
    "plt.figure(figsize=(5, 5))\n",
    "for i, value in enumerate(light_bulb_locations):\n",
    "    if (value[0]==0 and value[1]==0) or (value[0]==6 and value[1]==5):\n",
    "        plt.scatter(value[0], value[1], c='red')\n",
    "    else:\n",
    "        plt.scatter(value[0], value[1], c='black')\n",
    "    plt.text(value[0]+0.1, value[1]+0.1, f'{i}')\n",
    "        \n",
    "plt.xlim([-1, 7])\n",
    "plt.ylim([-1, 7])\n",
    "\n",
    "arrowprops=dict(arrowstyle='->')\n",
    "for i, j in wiring:\n",
    "    plt.annotate('', xy=[light_bulb_locations[j][0], light_bulb_locations[j][1]], xytext=[light_bulb_locations[i][0], light_bulb_locations[i][1]], arrowprops=arrowprops)\n",
    "\n",
    "plt.show()"
   ]
  }
 ],
 "metadata": {
  "kernelspec": {
   "display_name": "Python 3 (ipykernel)",
   "language": "python",
   "name": "python3"
  },
  "language_info": {
   "codemirror_mode": {
    "name": "ipython",
    "version": 3
   },
   "file_extension": ".py",
   "mimetype": "text/x-python",
   "name": "python",
   "nbconvert_exporter": "python",
   "pygments_lexer": "ipython3",
   "version": "3.10.6"
  }
 },
 "nbformat": 4,
 "nbformat_minor": 5
}
