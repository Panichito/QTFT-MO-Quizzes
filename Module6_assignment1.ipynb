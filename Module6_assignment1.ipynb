{
 "cells": [
  {
   "cell_type": "markdown",
   "id": "19819b62",
   "metadata": {},
   "source": [
    "# Wiring the lightbulbs\n",
    "\n",
    "You are tasked with wiring lightbulbs in a large warehouse. The location of the lightbulbs are listed below (in the (x,y) coordinates in meters). What is the minimum length of wire we need to make sure that all the bulbs are somehow connected to the breaker which is located at the (0,0).\n",
    "\n",
    "Do not think too much about the circuit (or the return wire). We need to just connect the bulbs similar to the picture below. Assume that you need only a single wire running.\n",
    "\n",
    "![Image of subgraph](https://upload.wikimedia.org/wikipedia/commons/thumb/d/d2/Minimum_spanning_tree.svg/600px-Minimum_spanning_tree.svg.png)\n",
    "\n",
    "\n",
    "\n",
    "\n",
    "\n",
    "\n",
    "\n",
    "\n",
    "\n",
    "\n",
    "\n"
   ]
  },
  {
   "cell_type": "code",
   "execution_count": 1,
   "id": "71a44896",
   "metadata": {},
   "outputs": [],
   "source": [
    "## location in (x,y)\n",
    "\n",
    "light_bulb_locations = [(1.2,1.2),\n",
    "                       (3.0,4.0),\n",
    "                       (5.0,4.5),\n",
    "                       (4.0,5.0),\n",
    "                       (0.5,0.1),\n",
    "                       (0.3,5.0),\n",
    "                       (5.0,5.0),\n",
    "                       (2.0,3.7),\n",
    "                       (0.5,3.0),\n",
    "                       (1.0,3.0)]"
   ]
  },
  {
   "cell_type": "code",
   "execution_count": 2,
   "id": "79a6a368",
   "metadata": {},
   "outputs": [],
   "source": [
    "import numpy as np\n",
    "import pandas as pd\n",
    "from scipy.spatial import distance_matrix\n",
    "import matplotlib.pyplot as plt\n",
    "import pulp\n",
    "from pulp import LpProblem, LpMinimize, LpVariable, lpSum, LpStatus, value\n",
    "import networkx as nx"
   ]
  },
  {
   "cell_type": "code",
   "execution_count": 12,
   "id": "d944a54d",
   "metadata": {},
   "outputs": [
    {
     "data": {
      "image/png": "[encoded data removed]",
      "text/plain": [
       "<Figure size 360x360 with 1 Axes>"
      ]
     },
     "metadata": {
      "needs_background": "light"
     },
     "output_type": "display_data"
    }
   ],
   "source": [
    "### useful code for plotting bulbs locations\n",
    "\n",
    "plt.figure(figsize=(5, 5))\n",
    "\n",
    "# draw problem state\n",
    "for i, value in enumerate(light_bulb_locations):\n",
    "    plt.scatter(value[0], value[1], c='black')\n",
    "    plt.text(value[0]+0.1, value[1]+0.1, f'{i}')\n",
    "    \n",
    "plt.scatter(0, 0, c='red')\n",
    "plt.text(0.1, 0.1, 's')\n",
    "        \n",
    "plt.xlim([-1, 6])\n",
    "plt.ylim([-1, 6])\n",
    "\n",
    "### might be useful for drawing lines connecting dots\n",
    "\n",
    "#plt.annotate('', xy=[light_bulb_locations[j][0], light_bulb_locations[j][1]], xytext=[light_bulb_locations[i][0], light_bulb_locations[i][1]], arrowprops=arrowprops)\n",
    "\n",
    "plt.show()"
   ]
  },
  {
   "cell_type": "code",
   "execution_count": null,
   "id": "0701b991",
   "metadata": {},
   "outputs": [],
   "source": []
  },
  {
   "cell_type": "markdown",
   "id": "a36d31ca",
   "metadata": {},
   "source": [
    "Repeat the previous question. However, in this case there is another breaker that we can also use located at (6.0,5.0). What would be the minimum total length of the wire that we need?"
   ]
  },
  {
   "cell_type": "code",
   "execution_count": null,
   "id": "991700ee",
   "metadata": {},
   "outputs": [],
   "source": []
  },
  {
   "cell_type": "code",
   "execution_count": null,
   "id": "9c70dcb6",
   "metadata": {},
   "outputs": [],
   "source": []
  }
 ],
 "metadata": {
  "kernelspec": {
   "display_name": "Python 3 (ipykernel)",
   "language": "python",
   "name": "python3"
  },
  "language_info": {
   "codemirror_mode": {
    "name": "ipython",
    "version": 3
   },
   "file_extension": ".py",
   "mimetype": "text/x-python",
   "name": "python",
   "nbconvert_exporter": "python",
   "pygments_lexer": "ipython3",
   "version": "3.10.6"
  }
 },
 "nbformat": 4,
 "nbformat_minor": 5
}
