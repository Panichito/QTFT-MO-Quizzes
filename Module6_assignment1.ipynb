{
 "cells": [
  {
   "cell_type": "markdown",
   "id": "19819b62",
   "metadata": {},
   "source": [
    "# Wiring the lightbulbs\n",
    "\n",
    "You are tasked with wiring lightbulbs in a large warehouse. The location of the lightbulbs are listed below (in the (x,y) coordinates in meters). What is the minimum length of wire we need to make sure that all the bulbs are somehow connected to the breaker which is located at the (0,0).\n",
    "\n",
    "Do not think too much about the circuit (or the return wire). We need to just connect the bulbs similar to the picture below. Assume that you need only a single wire running.\n",
    "\n",
    "![Image of subgraph](https://upload.wikimedia.org/wikipedia/commons/thumb/d/d2/Minimum_spanning_tree.svg/600px-Minimum_spanning_tree.svg.png)\n",
    "\n",
    "\n",
    "\n",
    "\n",
    "\n",
    "\n",
    "\n",
    "\n",
    "\n",
    "\n",
    "\n"
   ]
  },
  {
   "cell_type": "code",
   "execution_count": 1,
   "id": "71a44896",
   "metadata": {},
   "outputs": [
    {
     "data": {
      "text/plain": [
       "[(0, 0),\n",
       " (1.2, 1.2),\n",
       " (3.0, 4.0),\n",
       " (5.0, 4.5),\n",
       " (4.0, 5.0),\n",
       " (0.5, 0.1),\n",
       " (0.3, 5.0),\n",
       " (5.0, 5.0),\n",
       " (2.0, 3.7),\n",
       " (0.5, 3.0),\n",
       " (1.0, 3.0)]"
      ]
     },
     "execution_count": 1,
     "metadata": {},
     "output_type": "execute_result"
    }
   ],
   "source": [
    "## location in (x,y)\n",
    "\n",
    "light_bulb_locations = [(1.2,1.2),\n",
    "                       (3.0,4.0),\n",
    "                       (5.0,4.5),\n",
    "                       (4.0,5.0),\n",
    "                       (0.5,0.1),\n",
    "                       (0.3,5.0),\n",
    "                       (5.0,5.0),\n",
    "                       (2.0,3.7),\n",
    "                       (0.5,3.0),\n",
    "                       (1.0,3.0)]\n",
    "light_bulb_locations=[(0, 0)]+light_bulb_locations\n",
    "light_bulb_locations"
   ]
  },
  {
   "cell_type": "code",
   "execution_count": 2,
   "id": "79a6a368",
   "metadata": {},
   "outputs": [],
   "source": [
    "import numpy as np\n",
    "import pandas as pd\n",
    "from scipy.spatial import distance_matrix\n",
    "import matplotlib.pyplot as plt\n",
    "import pulp\n",
    "from pulp import LpProblem, LpMinimize, LpVariable, lpSum, LpStatus, value\n",
    "import networkx as nx"
   ]
  },
  {
   "cell_type": "code",
   "execution_count": 3,
   "id": "d944a54d",
   "metadata": {},
   "outputs": [
    {
     "data": {
      "image/png": "[encoded data removed]",
      "text/plain": [
       "<Figure size 360x360 with 1 Axes>"
      ]
     },
     "metadata": {
      "needs_background": "light"
     },
     "output_type": "display_data"
    }
   ],
   "source": [
    "### useful code for plotting bulbs locations\n",
    "\n",
    "plt.figure(figsize=(5, 5))\n",
    "\n",
    "# draw problem state\n",
    "for i, value in enumerate(light_bulb_locations):\n",
    "    plt.scatter(value[0], value[1], c='black')\n",
    "    plt.text(value[0]+0.1, value[1]+0.1, f'{i}')\n",
    "        \n",
    "plt.xlim([-1, 6])\n",
    "plt.ylim([-1, 6])\n",
    "\n",
    "### might be useful for drawing lines connecting dots\n",
    "\n",
    "#plt.annotate('', xy=[light_bulb_locations[j][0], light_bulb_locations[j][1]], xytext=[light_bulb_locations[i][0], light_bulb_locations[i][1]], arrowprops=arrowprops)\n",
    "\n",
    "plt.show()"
   ]
  },
  {
   "cell_type": "code",
   "execution_count": 4,
   "id": "8ce719d9",
   "metadata": {},
   "outputs": [
    {
     "data": {
      "text/plain": [
       "0.5099019513592785"
      ]
     },
     "execution_count": 4,
     "metadata": {},
     "output_type": "execute_result"
    }
   ],
   "source": [
    "d=distance_matrix(light_bulb_locations, light_bulb_locations, p=2)  # euclidean distance\n",
    "d[0][5]"
   ]
  },
  {
   "cell_type": "code",
   "execution_count": 5,
   "id": "0701b991",
   "metadata": {},
   "outputs": [],
   "source": [
    "model=LpProblem(name='mst', sense=LpMinimize)"
   ]
  },
  {
   "cell_type": "code",
   "execution_count": 6,
   "id": "16456ea6",
   "metadata": {},
   "outputs": [],
   "source": [
    "x=LpVariable.dicts('x', ((i, j) for i in range(len(light_bulb_locations)) for j in range(len(light_bulb_locations)) if i!=j), cat='Binary')\n",
    "u=LpVariable.dicts('u', (i for i in range(len(light_bulb_locations))), lowBound=1, upBound=len(light_bulb_locations)-1, cat='Integer')"
   ]
  },
  {
   "cell_type": "code",
   "execution_count": 7,
   "id": "837728bf",
   "metadata": {},
   "outputs": [],
   "source": [
    "# constraint\n",
    "for i in range(len(light_bulb_locations)):\n",
    "    model+=lpSum(x[i, j] for j in range(len(light_bulb_locations)) if i!=j)>=1\n",
    "    model+=lpSum(x[j, i] for j in range(len(light_bulb_locations)) if i!=j)>=1\n",
    "    \n",
    "for i in range(len(light_bulb_locations)):\n",
    "    for j in range(len(light_bulb_locations)):\n",
    "        if i!=j and (i!=0 and j!=0):\n",
    "            model+=u[j]-u[i]>=1-(len(light_bulb_locations)-1)*(1-x[i, j])"
   ]
  },
  {
   "cell_type": "code",
   "execution_count": 8,
   "id": "37955769",
   "metadata": {},
   "outputs": [],
   "source": [
    "# objective function\n",
    "model+=lpSum(x[i, j]*d[i][j] for i in range(len(light_bulb_locations)) for j in range(len(light_bulb_locations)) if i!=j)"
   ]
  },
  {
   "cell_type": "code",
   "execution_count": 13,
   "id": "8130734d",
   "metadata": {},
   "outputs": [
    {
     "name": "stdout",
     "output_type": "stream",
     "text": [
      "Welcome to the CBC MILP Solver \n",
      "Version: 2.10.3 \n",
      "Build Date: Dec 15 2019 \n",
      "\n",
      "command line - /home/panithi/.local/lib/python3.10/site-packages/pulp/solverdir/cbc/linux/64/cbc /tmp/197209d23495427680bcc7d69e316c11-pulp.mps timeMode elapsed branch printingOptions all solution /tmp/197209d23495427680bcc7d69e316c11-pulp.sol (default strategy 1)\n",
      "At line 2 NAME          MODEL\n",
      "At line 3 ROWS\n",
      "At line 117 COLUMNS\n",
      "At line 958 RHS\n",
      "At line 1071 BOUNDS\n",
      "At line 1202 ENDATA\n",
      "Problem MODEL has 112 rows, 120 columns and 490 elements\n",
      "Coin0008I MODEL read with 0 errors\n",
      "Option for timeMode changed from cpu to elapsed\n",
      "Continuous objective value is 12.6647 - 0.00 seconds\n",
      "Cgl0004I processed model has 112 rows, 120 columns (120 integer (110 of which binary)) and 490 elements\n",
      "Cbc0038I Initial state - 12 integers unsatisfied sum - 2.4\n",
      "Cbc0038I Pass   1: suminf.    1.60000 (8) obj. 13.5484 iterations 29\n",
      "Cbc0038I Pass   2: suminf.    1.60000 (4) obj. 16.4359 iterations 21\n",
      "Cbc0038I Pass   3: suminf.    1.60000 (4) obj. 16.0218 iterations 13\n",
      "Cbc0038I Pass   4: suminf.    5.65000 (25) obj. 84.5182 iterations 64\n",
      "Cbc0038I Pass   5: suminf.    1.80000 (8) obj. 70.6408 iterations 39\n",
      "Cbc0038I Pass   6: suminf.    1.30000 (7) obj. 69.9362 iterations 12\n",
      "Cbc0038I Pass   7: suminf.    1.45000 (5) obj. 64.0102 iterations 13\n",
      "Cbc0038I Pass   8: suminf.    0.40000 (2) obj. 57.6814 iterations 8\n",
      "Cbc0038I Solution found of 56.6857\n",
      "Cbc0038I Cleaned solution of 56.6857\n",
      "Cbc0038I Before mini branch and bound, 59 integers at bound fixed and 0 continuous\n",
      "Cbc0038I Full problem 112 rows 120 columns, reduced to 66 rows 61 columns\n",
      "Cbc0038I Mini branch and bound improved solution from 56.6857 to 20.9979 (0.08 seconds)\n",
      "Cbc0038I Round again with cutoff of 20.1646\n",
      "Cbc0038I Pass   9: suminf.    1.60000 (8) obj. 13.5484 iterations 0\n",
      "Cbc0038I Pass  10: suminf.    1.60000 (4) obj. 16.4359 iterations 45\n",
      "Cbc0038I Pass  11: suminf.    1.60000 (4) obj. 16.0218 iterations 9\n",
      "Cbc0038I Pass  12: suminf.    1.81832 (7) obj. 20.1646 iterations 50\n",
      "Cbc0038I Pass  13: suminf.    1.40000 (5) obj. 19.9676 iterations 17\n",
      "Cbc0038I Pass  14: suminf.    1.50000 (3) obj. 19.3093 iterations 37\n",
      "Cbc0038I Pass  15: suminf.    1.70000 (7) obj. 18.4119 iterations 30\n",
      "Cbc0038I Pass  16: suminf.    2.40000 (7) obj. 18.392 iterations 30\n",
      "Cbc0038I Pass  17: suminf.    2.00000 (6) obj. 18.5 iterations 11\n",
      "Cbc0038I Pass  18: suminf.    1.56336 (10) obj. 20.1646 iterations 24\n",
      "Cbc0038I Pass  19: suminf.    1.60000 (7) obj. 15.5719 iterations 45\n",
      "Cbc0038I Pass  20: suminf.    1.60000 (7) obj. 15.5719 iterations 1\n",
      "Cbc0038I Pass  21: suminf.    0.80000 (4) obj. 19.3011 iterations 42\n",
      "Cbc0038I Pass  22: suminf.    3.97747 (14) obj. 20.1646 iterations 22\n",
      "Cbc0038I Pass  23: suminf.    2.66667 (15) obj. 15.523 iterations 44\n",
      "Cbc0038I Pass  24: suminf.    1.90000 (10) obj. 16.7626 iterations 11\n",
      "Cbc0038I Pass  25: suminf.    2.48973 (12) obj. 20.1646 iterations 27\n",
      "Cbc0038I Pass  26: suminf.    2.48155 (23) obj. 20.1646 iterations 18\n",
      "Cbc0038I Pass  27: suminf.    1.53043 (12) obj. 20.1646 iterations 83\n",
      "Cbc0038I Pass  28: suminf.    1.10000 (6) obj. 18.196 iterations 24\n",
      "Cbc0038I Pass  29: suminf.    1.20000 (4) obj. 19.5465 iterations 46\n",
      "Cbc0038I Pass  30: suminf.    0.80000 (4) obj. 19.9126 iterations 11\n",
      "Cbc0038I Pass  31: suminf.    0.80000 (4) obj. 19.9126 iterations 7\n",
      "Cbc0038I Pass  32: suminf.    3.59479 (17) obj. 20.1646 iterations 43\n",
      "Cbc0038I Pass  33: suminf.    1.35466 (7) obj. 20.1646 iterations 37\n",
      "Cbc0038I Pass  34: suminf.    1.00000 (5) obj. 19.617 iterations 30\n",
      "Cbc0038I Pass  35: suminf.    2.76394 (15) obj. 20.1646 iterations 38\n",
      "Cbc0038I Pass  36: suminf.    1.86667 (12) obj. 17.9138 iterations 45\n",
      "Cbc0038I Pass  37: suminf.    1.66073 (10) obj. 20.1646 iterations 44\n",
      "Cbc0038I Pass  38: suminf.    2.00204 (7) obj. 20.1646 iterations 35\n",
      "Cbc0038I No solution found this major pass\n",
      "Cbc0038I Before mini branch and bound, 69 integers at bound fixed and 0 continuous\n",
      "Cbc0038I Full problem 112 rows 120 columns, reduced to 57 rows 50 columns\n",
      "Cbc0038I Mini branch and bound did not improve solution (0.14 seconds)\n",
      "Cbc0038I After 0.14 seconds - Feasibility pump exiting with objective of 20.9979 - took 0.13 seconds\n",
      "Cbc0012I Integer solution of 20.997928 found by feasibility pump after 0 iterations and 0 nodes (0.14 seconds)\n",
      "Cbc0038I Full problem 112 rows 120 columns, reduced to 36 rows 29 columns\n",
      "Cbc0031I 11 added rows had average density of 43.363636\n",
      "Cbc0013I At root node, 11 cuts changed objective from 12.664696 to 14.535152 in 100 passes\n",
      "Cbc0014I Cut generator 0 (Probing) - 332 row cuts average 2.1 elements, 0 column cuts (0 active)  in 0.022 seconds - new frequency is 1\n",
      "Cbc0014I Cut generator 1 (Gomory) - 931 row cuts average 106.2 elements, 0 column cuts (0 active)  in 0.038 seconds - new frequency is 1\n",
      "Cbc0014I Cut generator 2 (Knapsack) - 0 row cuts average 0.0 elements, 0 column cuts (0 active)  in 0.005 seconds - new frequency is -100\n",
      "Cbc0014I Cut generator 3 (Clique) - 0 row cuts average 0.0 elements, 0 column cuts (0 active)  in 0.001 seconds - new frequency is -100\n",
      "Cbc0014I Cut generator 4 (MixedIntegerRounding2) - 19 row cuts average 104.1 elements, 0 column cuts (0 active)  in 0.019 seconds - new frequency is -100\n",
      "Cbc0014I Cut generator 5 (FlowCover) - 179 row cuts average 2.0 elements, 0 column cuts (0 active)  in 0.010 seconds - new frequency is 1\n",
      "Cbc0014I Cut generator 6 (TwoMirCuts) - 281 row cuts average 17.3 elements, 0 column cuts (0 active)  in 0.009 seconds - new frequency is 1\n",
      "Cbc0010I After 0 nodes, 1 on tree, 20.997928 best solution, best possible 14.535152 (0.36 seconds)\n",
      "Cbc0016I Integer solution of 20.734662 found by strong branching after 2685 iterations and 15 nodes (0.45 seconds)\n",
      "Cbc0038I Full problem 112 rows 120 columns, reduced to 37 rows 31 columns\n",
      "Cbc0038I Full problem 112 rows 120 columns, reduced to 32 rows 25 columns\n",
      "Cbc0038I Full problem 112 rows 120 columns, reduced to 33 rows 27 columns\n",
      "Cbc0016I Integer solution of 19.540072 found by strong branching after 10293 iterations and 301 nodes (1.24 seconds)\n",
      "Cbc0016I Integer solution of 19.514362 found by strong branching after 10305 iterations and 301 nodes (1.24 seconds)\n",
      "Cbc0016I Integer solution of 19.194226 found by strong branching after 10321 iterations and 301 nodes (1.24 seconds)\n",
      "Cbc0004I Integer solution of 19.182317 found after 12255 iterations and 390 nodes (1.42 seconds)\n",
      "Cbc0004I Integer solution of 19.015541 found after 12312 iterations and 394 nodes (1.43 seconds)\n",
      "Cbc0004I Integer solution of 18.67311 found after 14232 iterations and 484 nodes (1.61 seconds)\n",
      "Cbc0038I Full problem 112 rows 120 columns, reduced to 34 rows 27 columns\n",
      "Cbc0016I Integer solution of 18.494964 found by strong branching after 15012 iterations and 550 nodes (1.73 seconds)\n",
      "Cbc0038I Full problem 112 rows 120 columns, reduced to 39 rows 34 columns\n",
      "Cbc0038I Full problem 112 rows 120 columns, reduced to 39 rows 32 columns\n",
      "Cbc0016I Integer solution of 18.202415 found by strong branching after 19445 iterations and 809 nodes (2.27 seconds)\n",
      "Cbc0038I Full problem 112 rows 120 columns, reduced to 24 rows 19 columns\n",
      "Cbc0010I After 1000 nodes, 5 on tree, 18.202415 best solution, best possible 14.625363 (2.81 seconds)\n",
      "Cbc0038I Full problem 112 rows 120 columns, reduced to 41 rows 34 columns\n",
      "Cbc0001I Search completed - best objective 18.2024148746733, took 80168 iterations and 7596 nodes (3.70 seconds)\n",
      "Cbc0032I Strong branching done 8030 times (75500 iterations), fathomed 101 nodes and fixed 334 variables\n",
      "Cbc0041I Maximum depth 15, 8148 variables fixed on reduced cost (complete fathoming 268 times, 6178 nodes taking 49503 iterations)\n",
      "Cuts at root node changed objective from 12.6647 to 14.5352\n",
      "Probing was tried 2848 times and created 12781 cuts of which 0 were active after adding rounds of cuts (0.309 seconds)\n",
      "Gomory was tried 2688 times and created 2153 cuts of which 0 were active after adding rounds of cuts (0.285 seconds)\n",
      "Knapsack was tried 100 times and created 0 cuts of which 0 were active after adding rounds of cuts (0.005 seconds)\n",
      "Clique was tried 100 times and created 0 cuts of which 0 were active after adding rounds of cuts (0.001 seconds)\n",
      "MixedIntegerRounding2 was tried 100 times and created 19 cuts of which 0 were active after adding rounds of cuts (0.019 seconds)\n",
      "FlowCover was tried 2688 times and created 1969 cuts of which 0 were active after adding rounds of cuts (0.208 seconds)\n",
      "TwoMirCuts was tried 2688 times and created 3955 cuts of which 0 were active after adding rounds of cuts (0.148 seconds)\n",
      "ZeroHalf was tried 1 times and created 0 cuts of which 0 were active after adding rounds of cuts (0.000 seconds)\n",
      "ImplicationCuts was tried 2202 times and created 115 cuts of which 0 were active after adding rounds of cuts (0.007 seconds)\n",
      "\n",
      "Result - Optimal solution found\n",
      "\n",
      "Objective value:                18.20241487\n",
      "Enumerated nodes:               7596\n",
      "Total iterations:               80168\n",
      "Time (CPU seconds):             3.65\n",
      "Time (Wallclock seconds):       3.71\n",
      "\n",
      "Option for printingOptions changed from normal to all\n",
      "Total time (CPU seconds):       3.65   (Wallclock seconds):       3.71\n",
      "\n"
     ]
    },
    {
     "data": {
      "text/plain": [
       "1"
      ]
     },
     "execution_count": 13,
     "metadata": {},
     "output_type": "execute_result"
    }
   ],
   "source": [
    "model.solve()"
   ]
  },
  {
   "cell_type": "code",
   "execution_count": 12,
   "id": "3220acc8",
   "metadata": {},
   "outputs": [
    {
     "name": "stdout",
     "output_type": "stream",
     "text": [
      "18.202414874673835\n"
     ]
    }
   ],
   "source": [
    "print(model.objective.value())"
   ]
  },
  {
   "cell_type": "code",
   "execution_count": 10,
   "id": "a5c0b32a",
   "metadata": {},
   "outputs": [
    {
     "name": "stdout",
     "output_type": "stream",
     "text": [
      "u_1 2.0\n",
      "u_10 3.0\n",
      "u_2 5.0\n",
      "u_3 6.0\n",
      "u_4 8.0\n",
      "u_5 1.0\n",
      "u_6 9.0\n",
      "u_7 7.0\n",
      "u_8 4.0\n",
      "u_9 10.0\n",
      "x_(0,_5) 1.0\n",
      "x_(1,_10) 1.0\n",
      "x_(10,_8) 1.0\n",
      "x_(2,_3) 1.0\n",
      "x_(3,_7) 1.0\n",
      "x_(4,_6) 1.0\n",
      "x_(5,_1) 1.0\n",
      "x_(6,_9) 1.0\n",
      "x_(7,_4) 1.0\n",
      "x_(8,_2) 1.0\n",
      "x_(9,_0) 1.0\n"
     ]
    },
    {
     "data": {
      "text/plain": [
       "[(0, 5),\n",
       " (1, 10),\n",
       " (10, 8),\n",
       " (2, 3),\n",
       " (3, 7),\n",
       " (4, 6),\n",
       " (5, 1),\n",
       " (6, 9),\n",
       " (7, 4),\n",
       " (8, 2),\n",
       " (9, 0)]"
      ]
     },
     "execution_count": 10,
     "metadata": {},
     "output_type": "execute_result"
    }
   ],
   "source": [
    "from ast import literal_eval as make_tuple\n",
    "\n",
    "wiring=[]\n",
    "for var in model.variables():\n",
    "    if var.name[0] == 'x' and var.value() == 1:\n",
    "        print(var.name, var.value())\n",
    "        a=var.name.replace('_', '')\n",
    "        wiring.append(make_tuple(a[1:]))\n",
    "    elif var.name[0] == 'u':\n",
    "        print(var.name, var.value())\n",
    "        \n",
    "wiring"
   ]
  },
  {
   "cell_type": "code",
   "execution_count": 11,
   "id": "6814446b",
   "metadata": {},
   "outputs": [
    {
     "data": {
      "image/png": "[encoded data removed]",
      "text/plain": [
       "<Figure size 360x360 with 1 Axes>"
      ]
     },
     "metadata": {
      "needs_background": "light"
     },
     "output_type": "display_data"
    }
   ],
   "source": [
    "plt.figure(figsize=(5, 5))\n",
    "\n",
    "# draw problem state\n",
    "for i, value in enumerate(light_bulb_locations):\n",
    "    plt.scatter(value[0], value[1], c='black')\n",
    "    plt.text(value[0]+0.1, value[1]+0.1, f'{i}')\n",
    "        \n",
    "plt.xlim([-1, 6])\n",
    "plt.ylim([-1, 6])\n",
    "\n",
    "### might be useful for drawing lines connecting dots\n",
    "\n",
    "arrowprops=dict(arrowstyle='->')\n",
    "for i, j in wiring:\n",
    "    plt.annotate('', xy=[light_bulb_locations[j][0], light_bulb_locations[j][1]], xytext=[light_bulb_locations[i][0], light_bulb_locations[i][1]], arrowprops=arrowprops)\n",
    "\n",
    "plt.show()"
   ]
  },
  {
   "cell_type": "markdown",
   "id": "a36d31ca",
   "metadata": {},
   "source": [
    "Repeat the previous question. However, in this case there is another breaker that we can also use located at (6.0,5.0). What would be the minimum total length of the wire that we need?"
   ]
  },
  {
   "cell_type": "code",
   "execution_count": null,
   "id": "991700ee",
   "metadata": {},
   "outputs": [],
   "source": []
  },
  {
   "cell_type": "code",
   "execution_count": null,
   "id": "9c70dcb6",
   "metadata": {},
   "outputs": [],
   "source": []
  }
 ],
 "metadata": {
  "kernelspec": {
   "display_name": "Python 3 (ipykernel)",
   "language": "python",
   "name": "python3"
  },
  "language_info": {
   "codemirror_mode": {
    "name": "ipython",
    "version": 3
   },
   "file_extension": ".py",
   "mimetype": "text/x-python",
   "name": "python",
   "nbconvert_exporter": "python",
   "pygments_lexer": "ipython3",
   "version": "3.10.6"
  }
 },
 "nbformat": 4,
 "nbformat_minor": 5
}
