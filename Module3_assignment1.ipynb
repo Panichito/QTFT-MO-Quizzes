{
 "cells": [
  {
   "cell_type": "markdown",
   "id": "cd3830eb",
   "metadata": {},
   "source": [
    "# Cutting stock problem\n",
    "\n",
    "A factory received an order that requires cutting aluminum (Al) rods to specific sizes. The stock length of an Al rod is 5.600 meters.\n",
    "\n",
    "The order is given below in terms of (length, quantities). Our job is to design the cutting pattern of the Al stock rod to minimize waste.\n",
    "\n",
    "__Q1.1__ Find the optimal cutting solution. How many cutting patterns are used?\n",
    "\n",
    "__Q1.2__ For the optimal cutting solution, how much material is wasted?\n",
    "\n",
    "__Q1.3__ (Extra credit) How many unique (and valid) cutting patterns are there?"
   ]
  },
  {
   "cell_type": "code",
   "execution_count": 2,
   "id": "e6b247d1",
   "metadata": {},
   "outputs": [],
   "source": [
    "stock_length = 5.6\n",
    "Al_pieces_order = [(1.380, 5),\n",
    "            (1.520, 4),\n",
    "            (1.710, 5),\n",
    "            (1.820, 4),\n",
    "            (1.930, 3),\n",
    "            (2.000, 4),\n",
    "            (2.220, 5)]"
   ]
  },
  {
   "cell_type": "code",
   "execution_count": 3,
   "id": "c3f86774",
   "metadata": {},
   "outputs": [
    {
     "name": "stdout",
     "output_type": "stream",
     "text": [
      "['PULP_CBC_CMD']\n"
     ]
    }
   ],
   "source": [
    "from pulp import LpMaximize, LpMinimize, LpStatus, lpSum, LpVariable, LpProblem\n",
    "import pulp\n",
    "solver_list=pulp.listSolvers(onlyAvailable=True)\n",
    "print(solver_list)\n",
    "import numpy as np"
   ]
  },
  {
   "cell_type": "code",
   "execution_count": 60,
   "id": "0bd91457",
   "metadata": {
    "scrolled": true
   },
   "outputs": [
    {
     "data": {
      "text/plain": [
       "['PULP_CBC_CMD']"
      ]
     },
     "execution_count": 60,
     "metadata": {},
     "output_type": "execute_result"
    }
   ],
   "source": [
    "'''\n",
    "listall=[]\n",
    "for i in range(len(Al_pieces_order)):\n",
    "    for j in range(Al_pieces_order[i][1]):\n",
    "        listall.append(Al_pieces_order[i][0])\n",
    "wasted_list=[]\n",
    "while len(listall):\n",
    "    print('LEN =', len(listall))\n",
    "    x={i: LpVariable(name=f'n{i}', cat='Binary') for i in range(len(listall))}\n",
    "    model=LpProblem(name=\"cutting_stock_problem\", sense=LpMaximize)\n",
    "    model+=lpSum(x[i]*listall[i] for i in range(len(listall))) <= stock_length\n",
    "    model+=lpSum(x[i]*listall[i] for i in range(len(listall)))\n",
    "    model.solve()\n",
    "    cnt=0\n",
    "    clear_index=[]\n",
    "    for var in model.variables():\n",
    "        if var.value()==1: \n",
    "            cnt+=listall[int(var.name[1:])]\n",
    "            clear_index.append(int(var.name[1:]))\n",
    "            print(f'{var.name} : {var.value()}')\n",
    "    clear_index.sort()\n",
    "    for c in reversed(clear_index):\n",
    "        listall.pop(c)\n",
    "    wasted_list.append(cnt)\n",
    "cnt_wasted=0;\n",
    "for i in wasted_list:\n",
    "    cnt_wasted=5.6-i\n",
    "print(\"Wasted = \", cnt_wasted)\n",
    "print(wasted_list)\n",
    "'''\n",
    "pulp.listSolvers(onlyAvailable=True)"
   ]
  },
  {
   "cell_type": "code",
   "execution_count": 5,
   "id": "15464b5a",
   "metadata": {},
   "outputs": [
    {
     "name": "stdout",
     "output_type": "stream",
     "text": [
      "Patterns =  91\n"
     ]
    }
   ],
   "source": [
    "from itertools import combinations\n",
    "\n",
    "def generate_combinations(cuts, stock_length):\n",
    "    valid=set()\n",
    "    for r in range(1, len(cuts)+1):\n",
    "        subsets=combinations(cuts, r)\n",
    "        for s in subsets:\n",
    "            if sum(s) <= stock_length:\n",
    "                valid.add(s)\n",
    "    return valid\n",
    "\n",
    "# Define the cuts max of one type is 5.6/that_type\n",
    "cuts = []\n",
    "for i in range(len(Al_pieces_order)):\n",
    "    for j in range(int(stock_length/Al_pieces_order[i][0])):\n",
    "        cuts.append(Al_pieces_order[i][0])\n",
    "\n",
    "# Generate valid combinations of cuts\n",
    "valid_patterns=generate_combinations(cuts, stock_length)\n",
    "\n",
    "#for i in valid_combinations:\n",
    "#    print(i)\n",
    "\n",
    "\n",
    "valid_patterns=sorted(valid_patterns)\n",
    "print('Patterns = ', len(valid_patterns))"
   ]
  },
  {
   "cell_type": "code",
   "execution_count": 19,
   "id": "0b7a0e5e",
   "metadata": {},
   "outputs": [
    {
     "name": "stdout",
     "output_type": "stream",
     "text": [
      "[422, 284, 146, 8, 132, 113, 102, 91, 84, 62, 270, 118, 99, 88, 77, 70, 48, 251, 80, 69, 58, 51, 29, 240, 58, 47, 40, 18, 229, 36, 29, 7, 222, 22, 0, 200, 408, 256, 104, 85, 74, 63, 56, 34, 237, 66, 55, 44, 37, 15, 226, 44, 33, 26, 4, 215, 22, 15, 208, 8, 186, 389, 218, 47, 36, 25, 18, 207, 25, 14, 7, 196, 3, 189, 167, 378, 196, 14, 3, 185, 178, 156, 367, 174, 167, 145, 360, 160, 138, 338, 116]\n"
     ]
    }
   ],
   "source": [
    "# parameters\n",
    "a=[]\n",
    "for i in range(len(Al_pieces_order)):\n",
    "    tmp=[]\n",
    "    for pattern in valid_patterns:\n",
    "        #print(pattern)\n",
    "        cnt=0\n",
    "        for j in pattern:\n",
    "            if j==Al_pieces_order[i][0]:\n",
    "                cnt+=1\n",
    "        tmp.append(cnt)\n",
    "    a.append(tmp)\n",
    "    \n",
    "wasted=[]\n",
    "for combination in valid_patterns:\n",
    "    wasted_value=0\n",
    "    for c in combination: \n",
    "        wasted_value+=int(c*100)\n",
    "    wasted.append((560-wasted_value))\n",
    "print(wasted)\n",
    "        \n",
    "b=[]\n",
    "for i in range(len(Al_pieces_order)):\n",
    "    b.append(Al_pieces_order[i][1])"
   ]
  },
  {
   "cell_type": "code",
   "execution_count": 62,
   "id": "891f3721",
   "metadata": {},
   "outputs": [],
   "source": [
    "# https://neos-guide.org/case-studies/sc/mfg/the-cutting-stock-problem/\n",
    "model=LpProblem(name=\"cutting_stock_problem\", sense=LpMinimize)"
   ]
  },
  {
   "cell_type": "code",
   "execution_count": 63,
   "id": "b4aae9cc",
   "metadata": {},
   "outputs": [],
   "source": [
    "#a={(i, j): LpVariable(name=f'{Al_pieces_order[i][0]}_in_p{j}', cat='Integer') for i in range(len(Al_pieces_order)) for j in range(len(valid_patterns))}\n",
    "#b={i: LpVariable(name=f'{i}', cat='Integer') for i in range(len(Al_pieces_order))}\n",
    "x={j: LpVariable(name=f'use_p{j}', lowBound=0, cat='Integer') for j in range(len(valid_patterns))}"
   ]
  },
  {
   "cell_type": "code",
   "execution_count": 64,
   "id": "9acc8ddc",
   "metadata": {},
   "outputs": [],
   "source": [
    "# constraint: complete the order received\n",
    "for i in range(len(Al_pieces_order)):\n",
    "    model+=lpSum(a[i][j]*x[j] for j in range(len(valid_patterns))) == b[i]  # no wasted material "
   ]
  },
  {
   "cell_type": "markdown",
   "id": "86231e90",
   "metadata": {},
   "source": [
    "## อ่อ wasted material คือไม่ให้เหลือเกินที่จะส่งให้ลูกค้า"
   ]
  },
  {
   "cell_type": "code",
   "execution_count": 65,
   "id": "ef4194e6",
   "metadata": {},
   "outputs": [],
   "source": [
    "# objective function\n",
    "\n",
    "# minimize the used of stock\n",
    "#model+=lpSum(x[j] for j in range(len(valid_patterns)))\n",
    "\n",
    "# minimize wasted material\n",
    "model+=lpSum(x[j]*wasted[j] for j in range(len(valid_patterns)))"
   ]
  },
  {
   "cell_type": "code",
   "execution_count": 66,
   "id": "41f8e684",
   "metadata": {},
   "outputs": [
    {
     "name": "stdout",
     "output_type": "stream",
     "text": [
      "Welcome to the CBC MILP Solver \n",
      "Version: 2.10.3 \n",
      "Build Date: Dec 15 2019 \n",
      "\n",
      "command line - /home/panithi/.local/lib/python3.10/site-packages/pulp/solverdir/cbc/linux/64/cbc /tmp/5ddead230e3d4b659d04d04d64847aca-pulp.mps timeMode elapsed branch printingOptions all solution /tmp/5ddead230e3d4b659d04d04d64847aca-pulp.sol (default strategy 1)\n",
      "At line 2 NAME          MODEL\n",
      "At line 3 ROWS\n",
      "At line 12 COLUMNS\n",
      "At line 473 RHS\n",
      "At line 481 BOUNDS\n",
      "At line 573 ENDATA\n",
      "Problem MODEL has 7 rows, 91 columns and 188 elements\n",
      "Coin0008I MODEL read with 0 errors\n",
      "Option for timeMode changed from cpu to elapsed\n",
      "Continuous objective value is 60 - 0.00 seconds\n",
      "Cgl0004I processed model has 7 rows, 91 columns (91 integer (9 of which binary)) and 188 elements\n",
      "Cutoff increment increased from 1e-05 to 0.9999\n",
      "Cbc0038I Full problem 7 rows 91 columns, reduced to 4 rows 24 columns\n",
      "Cbc0012I Integer solution of 230 found by greedy equality after 0 iterations and 0 nodes (0.02 seconds)\n",
      "Cbc0031I 1 added rows had average density of 46\n",
      "Cbc0013I At root node, 14 cuts changed objective from 70 to 230 in 1 passes\n",
      "Cbc0014I Cut generator 0 (Probing) - 0 row cuts average 0.0 elements, 0 column cuts (0 active)  in 0.001 seconds - new frequency is -100\n",
      "Cbc0014I Cut generator 1 (Gomory) - 3 row cuts average 44.0 elements, 0 column cuts (0 active)  in 0.000 seconds - new frequency is 1\n",
      "Cbc0014I Cut generator 2 (Knapsack) - 0 row cuts average 0.0 elements, 0 column cuts (0 active)  in 0.000 seconds - new frequency is -100\n",
      "Cbc0014I Cut generator 3 (Clique) - 0 row cuts average 0.0 elements, 0 column cuts (0 active)  in 0.000 seconds - new frequency is -100\n",
      "Cbc0014I Cut generator 4 (MixedIntegerRounding2) - 0 row cuts average 0.0 elements, 0 column cuts (0 active)  in 0.000 seconds - new frequency is -100\n",
      "Cbc0014I Cut generator 5 (FlowCover) - 0 row cuts average 0.0 elements, 0 column cuts (0 active)  in 0.000 seconds - new frequency is -100\n",
      "Cbc0014I Cut generator 6 (TwoMirCuts) - 11 row cuts average 37.5 elements, 0 column cuts (0 active)  in 0.001 seconds - new frequency is -100\n",
      "Cbc0001I Search completed - best objective 230, took 0 iterations and 0 nodes (0.03 seconds)\n",
      "Cbc0035I Maximum depth 0, 1 variables fixed on reduced cost\n",
      "Cuts at root node changed objective from 70 to 230\n",
      "Probing was tried 1 times and created 0 cuts of which 0 were active after adding rounds of cuts (0.001 seconds)\n",
      "Gomory was tried 1 times and created 3 cuts of which 0 were active after adding rounds of cuts (0.000 seconds)\n",
      "Knapsack was tried 1 times and created 0 cuts of which 0 were active after adding rounds of cuts (0.000 seconds)\n",
      "Clique was tried 1 times and created 0 cuts of which 0 were active after adding rounds of cuts (0.000 seconds)\n",
      "MixedIntegerRounding2 was tried 1 times and created 0 cuts of which 0 were active after adding rounds of cuts (0.000 seconds)\n",
      "FlowCover was tried 1 times and created 0 cuts of which 0 were active after adding rounds of cuts (0.000 seconds)\n",
      "TwoMirCuts was tried 1 times and created 11 cuts of which 0 were active after adding rounds of cuts (0.001 seconds)\n",
      "ZeroHalf was tried 1 times and created 0 cuts of which 0 were active after adding rounds of cuts (0.000 seconds)\n",
      "\n",
      "Result - Optimal solution found\n",
      "\n",
      "Objective value:                230.00000000\n",
      "Enumerated nodes:               0\n",
      "Total iterations:               0\n",
      "Time (CPU seconds):             0.03\n",
      "Time (Wallclock seconds):       0.03\n",
      "\n",
      "Option for printingOptions changed from normal to all\n",
      "Total time (CPU seconds):       0.03   (Wallclock seconds):       0.03\n",
      "\n"
     ]
    },
    {
     "data": {
      "text/plain": [
       "1"
      ]
     },
     "execution_count": 66,
     "metadata": {},
     "output_type": "execute_result"
    }
   ],
   "source": [
    "status=model.solve()\n",
    "status"
   ]
  },
  {
   "cell_type": "code",
   "execution_count": 67,
   "id": "af8b5194",
   "metadata": {},
   "outputs": [
    {
     "data": {
      "text/plain": [
       "2.3"
      ]
     },
     "execution_count": 67,
     "metadata": {},
     "output_type": "execute_result"
    }
   ],
   "source": [
    "model.objective.value()/100"
   ]
  },
  {
   "cell_type": "code",
   "execution_count": 68,
   "id": "32509bbe",
   "metadata": {},
   "outputs": [
    {
     "name": "stdout",
     "output_type": "stream",
     "text": [
      "use_p3 : 1.0\n",
      "1.38, 1.38, 1.38, 1.38, \n",
      "WASTED = 0.08\n",
      "use_p31 : 1.0\n",
      "1.38, 1.93, 2.22, \n",
      "WASTED = 0.07\n",
      "use_p43 : 1.0\n",
      "1.52, 1.52, 2.22, \n",
      "WASTED = 0.34\n",
      "use_p49 : 1.0\n",
      "1.52, 1.71, 2.22, \n",
      "WASTED = 0.15\n",
      "use_p54 : 1.0\n",
      "1.52, 1.82, 2.22, \n",
      "WASTED = 0.04\n",
      "use_p70 : 3.0\n",
      "1.71, 1.82, 2.0, \n",
      "WASTED = 0.21\n",
      "use_p72 : 1.0\n",
      "1.71, 1.93, 1.93, \n",
      "WASTED = 0.03\n",
      "use_p88 : 1.0\n",
      "2.0, 2.22, \n",
      "WASTED = 1.38\n",
      "Amount of wasted material is 2.3\n"
     ]
    }
   ],
   "source": [
    "from decimal import Decimal\n",
    "wasted_value=0\n",
    "for var in model.variables():\n",
    "    if var.value() > 0:\n",
    "        print(f'{var.name} : {var.value()}')\n",
    "        sum=0\n",
    "        for i in valid_patterns[int(var.name[5:])]:\n",
    "            sum+=int(i*100)\n",
    "            print(int(i*100)/100, end=', ')\n",
    "        #print('SUM =', sum)\n",
    "        print('\\nWASTED =', int(var.value())*(560-sum)/100)\n",
    "        wasted_value+=int(var.value())*(560-sum)\n",
    "        #print(sum(valid_patterns[int(var.name[5:])]))\n",
    "        #print(valid_patterns[int(var.name[5:])])\n",
    "        #wasted_value+=var.value()*(stock_length-sum(valid_patterns[int(var.name[5:])]))\n",
    "\n",
    "print('Amount of wasted material is', wasted_value/100)"
   ]
  }
 ],
 "metadata": {
  "interpreter": {
   "hash": "ad275f547d9d45379792f91c7bd1ec71089f06a088a10d8589d12bfbbaed25ac"
  },
  "kernelspec": {
   "display_name": "Python 3 (ipykernel)",
   "language": "python",
   "name": "python3"
  },
  "language_info": {
   "codemirror_mode": {
    "name": "ipython",
    "version": 3
   },
   "file_extension": ".py",
   "mimetype": "text/x-python",
   "name": "python",
   "nbconvert_exporter": "python",
   "pygments_lexer": "ipython3",
   "version": "3.10.6"
  }
 },
 "nbformat": 4,
 "nbformat_minor": 5
}
